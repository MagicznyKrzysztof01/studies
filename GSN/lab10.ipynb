{
  "cells": [
    {
      "cell_type": "markdown",
      "metadata": {
        "id": "MsITBHLCFCnJ"
      },
      "source": [
        "# Wstęp\n",
        "Zadanie 10 jest pierwszą częścią zajęć laboratoryjnych poświęconych sieciom rekurencyjnym i predykcji z wykorzystaniem danych multimodalnych. Efektem prac będzie sieć rekurencyjna do predykcji kursu kryptowaluty Bitcoin (BTC) w oparciu o dane z giełdy oraz o wyniki analizy emocji komunikatów z mediów społecznościowych, do których również należy utworzyć dedykowany model sieci rekurencyjnej. Plan realizacji etapów wygląda następująco:\n",
        "\n",
        "1.   EmoTweet - model sieci rekurencyjnej do analizy emocji (10 pkt., laboratorium 10)\n",
        "2. Agregacja informacji emotywnej i przygotowanie MultiBTC - multimodalnego model sieci rekurencyjnej do predykcji kursu BTC (10 pkt., laboratorium 11)\n",
        "3. Ewaluacja modelu MultiBTC (10 pkt., laboratorium 12)\n",
        "\n",
        "Łącznie można otrzymać 30 punktów.\n",
        "\n",
        "# Cel ćwiczenia\n",
        "\n",
        "Celem pierwszego etapu prac jest zapoznanie się z podstawową siecią rekurencyjną LSTM. Ze względu na fakt, że model ten będzie wykorzystany do analizy emocji tekstu, w ramach teorii do zadania zostanie omówiony podstawowy mechanizm konwersji słów w tekście do postaci wektorów dystrybucyjnych (tzw. word embeddings) na podstawie rozwiązania o nazwie `fastText`. Modele będą budowane na ogólnodostępnym zbiorze `TweetEval`, zawierającym podzbiory ręcznie anotowanych tweetów przy pomocy etykiet odnoszących się do następujących zjawisk: 1) emocje (emotion), 2) emotikony (emoji), 3) ironia (irony), 4) mowa nienawiści (hate speech), 5) mowa ofensywna (offensive language), 6) wydźwięk (sentiment), 7) nastawienie (stance).\n",
        "\n",
        "# Warunki zaliczenia\n",
        "\n",
        "Do zaliczenia pierwszego etapu należy utworzyć następujące modele dla min. 2 wybranych zjawisk:\n",
        "\n",
        "1.   Model bazowy (regresja logistyczna).\n",
        "2.   Model rekurencyjny oparty o sieć LSTM.\n",
        "\n",
        "Wytrenowane modele będą wykorzystane w 2 etapie, dlatego proszę je zachować.\n",
        "\n",
        "# Wektory dystrybucyjne\n",
        "\n",
        "W przetwarzaniu języka naturalnego, o wektorach dystrybucyjnych (inaczej osadzeniach lub zanurzeniach, ang. word embeddings) mówi się w kontekście reprezentacji słów w tekście, zazwyczaj w postaci wektora liczb rzeczywistych, który koduje znaczenie słowa. Hipoteza dystrybucyjna, u podstawy której leży większość metod reprezentacji, mówi o tym, że słowa, które często współwystępują, mają podobne znaczenie. Wektory dystrybucyjne można uzyskać za pomocą zestawu technik modelowania języka, w których słowa lub frazy są mapowane do wektorów liczb rzeczywistych. Z reguły polega to na matematycznym zanurzeniu z przestrzeni o wielu wymiarach opisujących słowo (konteksty) do ciągłej przestrzeni wektorowej o znacznie mniejszym wymiarze.\n",
        "\n",
        "Metody generowania tego odwzorowania obejmują sieci neuronowe, redukcję wymiarowości na macierzy współwystępowania słów, modele probabilistyczne lub jawną reprezentację w kontekście, w którym pojawiają się słowa. Wektory dystrybucyjne, używane jako podstawowa reprezentacja wejściowa tekstu, okazały się istotnie poprawiać jakość w wielu zadaniach NLP, takich jak np. rozpoznawanie nazw własnych, określanie części mowy, rozpoznawanie dziedziny tekstu, czy też rozpoznawanie wydźwięku i emocji w tekście.\n",
        "\n",
        "# fastText\n",
        "\n",
        "[fastText](https://fasttext.cc/) jest biblioteką do efektywnego uczenia modeli reprezentacji wektorowych słów oraz do budowania klasyfikatorów tekstu. Modele językowe można budować z wykorzystaniem dwóch popularnych technik: [Continuous Bag of Words](https://www.kdnuggets.com/2018/04/implementing-deep-learning-methods-feature-engineering-text-data-cbow.html) oraz [Skip-Gram](https://towardsdatascience.com/skip-gram-nlp-context-words-prediction-algorithm-5bbf34f84e0c).\n",
        "\n",
        "## Instalacja\n",
        "\n",
        "Pobranie repozytorium projektu:\n"
      ]
    },
    {
      "cell_type": "code",
      "execution_count": 1,
      "metadata": {
        "id": "dKqTEwe8eWZc"
      },
      "outputs": [],
      "source": [
        "import os"
      ]
    },
    {
      "cell_type": "code",
      "execution_count": 2,
      "metadata": {
        "colab": {
          "base_uri": "https://localhost:8080/"
        },
        "id": "0UkMDUx6bn6e",
        "outputId": "1af84ff5-5b74-4f1b-963d-f16df36930dd"
      },
      "outputs": [
        {
          "name": "stdout",
          "output_type": "stream",
          "text": [
            "Cloning into 'fastText'...\n",
            "remote: Enumerating objects: 3998, done.\u001b[K\n",
            "remote: Counting objects: 100% (1026/1026), done.\u001b[K\n",
            "remote: Compressing objects: 100% (195/195), done.\u001b[K\n",
            "remote: Total 3998 (delta 890), reused 859 (delta 826), pack-reused 2972\u001b[K\n",
            "Receiving objects: 100% (3998/3998), 8.30 MiB | 24.63 MiB/s, done.\n",
            "Resolving deltas: 100% (2528/2528), done.\n"
          ]
        }
      ],
      "source": [
        "!git clone https://github.com/facebookresearch/fastText.git"
      ]
    },
    {
      "cell_type": "markdown",
      "metadata": {
        "id": "4JWc5Ie0cvYo"
      },
      "source": [
        "Instalacja biblioteki:"
      ]
    },
    {
      "cell_type": "code",
      "execution_count": 3,
      "metadata": {
        "colab": {
          "base_uri": "https://localhost:8080/"
        },
        "id": "ku0F_kKMbteg",
        "outputId": "773ff949-8c6e-411f-9a7a-8693caec30f8"
      },
      "outputs": [
        {
          "name": "stdout",
          "output_type": "stream",
          "text": [
            "\u001b[0mCMake Deprecation Warning at CMakeLists.txt:9 (cmake_minimum_required):\n",
            "  Compatibility with CMake < 3.5 will be removed from a future version of\n",
            "  CMake.\n",
            "\n",
            "  Update the VERSION argument <min> value or use a ...<max> suffix to tell\n",
            "  CMake that the project does not need compatibility with older versions.\n",
            "\n",
            "\u001b[0m\n",
            "-- The C compiler identification is GNU 11.4.0\n",
            "-- The CXX compiler identification is GNU 11.4.0\n",
            "-- Detecting C compiler ABI info\n",
            "-- Detecting C compiler ABI info - done\n",
            "-- Check for working C compiler: /usr/bin/cc - skipped\n",
            "-- Detecting C compile features\n",
            "-- Detecting C compile features - done\n",
            "-- Detecting CXX compiler ABI info\n",
            "-- Detecting CXX compiler ABI info - done\n",
            "-- Check for working CXX compiler: /usr/bin/c++ - skipped\n",
            "-- Detecting CXX compile features\n",
            "-- Detecting CXX compile features - done\n",
            "-- Configuring done (1.3s)\n",
            "-- Generating done (0.0s)\n",
            "-- Build files have been written to: /content/fastText/build\n",
            "[  2%] \u001b[32mBuilding CXX object CMakeFiles/fasttext-shared.dir/src/args.cc.o\u001b[0m\n",
            "[  4%] \u001b[32mBuilding CXX object CMakeFiles/fasttext-shared.dir/src/autotune.cc.o\u001b[0m\n",
            "[  6%] \u001b[32mBuilding CXX object CMakeFiles/fasttext-shared.dir/src/densematrix.cc.o\u001b[0m\n",
            "[  8%] \u001b[32mBuilding CXX object CMakeFiles/fasttext-shared.dir/src/dictionary.cc.o\u001b[0m\n",
            "[ 10%] \u001b[32mBuilding CXX object CMakeFiles/fasttext-shared.dir/src/fasttext.cc.o\u001b[0m\n",
            "[ 12%] \u001b[32mBuilding CXX object CMakeFiles/fasttext-shared.dir/src/loss.cc.o\u001b[0m\n",
            "[ 14%] \u001b[32mBuilding CXX object CMakeFiles/fasttext-shared.dir/src/main.cc.o\u001b[0m\n",
            "[ 17%] \u001b[32mBuilding CXX object CMakeFiles/fasttext-shared.dir/src/matrix.cc.o\u001b[0m\n",
            "[ 19%] \u001b[32mBuilding CXX object CMakeFiles/fasttext-shared.dir/src/meter.cc.o\u001b[0m\n",
            "[ 21%] \u001b[32mBuilding CXX object CMakeFiles/fasttext-shared.dir/src/model.cc.o\u001b[0m\n",
            "[ 23%] \u001b[32mBuilding CXX object CMakeFiles/fasttext-shared.dir/src/productquantizer.cc.o\u001b[0m\n",
            "[ 25%] \u001b[32mBuilding CXX object CMakeFiles/fasttext-shared.dir/src/quantmatrix.cc.o\u001b[0m\n",
            "[ 27%] \u001b[32mBuilding CXX object CMakeFiles/fasttext-shared.dir/src/utils.cc.o\u001b[0m\n",
            "[ 29%] \u001b[32mBuilding CXX object CMakeFiles/fasttext-shared.dir/src/vector.cc.o\u001b[0m\n",
            "[ 31%] \u001b[32m\u001b[1mLinking CXX shared library libfasttext.so\u001b[0m\n",
            "[ 31%] Built target fasttext-shared\n",
            "[ 34%] \u001b[32mBuilding CXX object CMakeFiles/fasttext-static.dir/src/args.cc.o\u001b[0m\n",
            "[ 36%] \u001b[32mBuilding CXX object CMakeFiles/fasttext-static.dir/src/autotune.cc.o\u001b[0m\n",
            "[ 38%] \u001b[32mBuilding CXX object CMakeFiles/fasttext-static.dir/src/densematrix.cc.o\u001b[0m\n",
            "[ 40%] \u001b[32mBuilding CXX object CMakeFiles/fasttext-static.dir/src/dictionary.cc.o\u001b[0m\n",
            "[ 42%] \u001b[32mBuilding CXX object CMakeFiles/fasttext-static.dir/src/fasttext.cc.o\u001b[0m\n",
            "[ 44%] \u001b[32mBuilding CXX object CMakeFiles/fasttext-static.dir/src/loss.cc.o\u001b[0m\n",
            "[ 46%] \u001b[32mBuilding CXX object CMakeFiles/fasttext-static.dir/src/main.cc.o\u001b[0m\n",
            "[ 48%] \u001b[32mBuilding CXX object CMakeFiles/fasttext-static.dir/src/matrix.cc.o\u001b[0m\n",
            "[ 51%] \u001b[32mBuilding CXX object CMakeFiles/fasttext-static.dir/src/meter.cc.o\u001b[0m\n",
            "[ 53%] \u001b[32mBuilding CXX object CMakeFiles/fasttext-static.dir/src/model.cc.o\u001b[0m\n",
            "[ 55%] \u001b[32mBuilding CXX object CMakeFiles/fasttext-static.dir/src/productquantizer.cc.o\u001b[0m\n",
            "[ 57%] \u001b[32mBuilding CXX object CMakeFiles/fasttext-static.dir/src/quantmatrix.cc.o\u001b[0m\n",
            "[ 59%] \u001b[32mBuilding CXX object CMakeFiles/fasttext-static.dir/src/utils.cc.o\u001b[0m\n",
            "[ 61%] \u001b[32mBuilding CXX object CMakeFiles/fasttext-static.dir/src/vector.cc.o\u001b[0m\n",
            "[ 63%] \u001b[32m\u001b[1mLinking CXX static library libfasttext.a\u001b[0m\n",
            "[ 63%] Built target fasttext-static\n",
            "[ 65%] \u001b[32mBuilding CXX object CMakeFiles/fasttext-static_pic.dir/src/args.cc.o\u001b[0m\n",
            "[ 68%] \u001b[32mBuilding CXX object CMakeFiles/fasttext-static_pic.dir/src/autotune.cc.o\u001b[0m\n",
            "[ 70%] \u001b[32mBuilding CXX object CMakeFiles/fasttext-static_pic.dir/src/densematrix.cc.o\u001b[0m\n",
            "[ 72%] \u001b[32mBuilding CXX object CMakeFiles/fasttext-static_pic.dir/src/dictionary.cc.o\u001b[0m\n",
            "[ 74%] \u001b[32mBuilding CXX object CMakeFiles/fasttext-static_pic.dir/src/fasttext.cc.o\u001b[0m\n",
            "[ 76%] \u001b[32mBuilding CXX object CMakeFiles/fasttext-static_pic.dir/src/loss.cc.o\u001b[0m\n",
            "[ 78%] \u001b[32mBuilding CXX object CMakeFiles/fasttext-static_pic.dir/src/main.cc.o\u001b[0m\n",
            "[ 80%] \u001b[32mBuilding CXX object CMakeFiles/fasttext-static_pic.dir/src/matrix.cc.o\u001b[0m\n",
            "[ 82%] \u001b[32mBuilding CXX object CMakeFiles/fasttext-static_pic.dir/src/meter.cc.o\u001b[0m\n",
            "[ 85%] \u001b[32mBuilding CXX object CMakeFiles/fasttext-static_pic.dir/src/model.cc.o\u001b[0m\n",
            "[ 87%] \u001b[32mBuilding CXX object CMakeFiles/fasttext-static_pic.dir/src/productquantizer.cc.o\u001b[0m\n",
            "[ 89%] \u001b[32mBuilding CXX object CMakeFiles/fasttext-static_pic.dir/src/quantmatrix.cc.o\u001b[0m\n",
            "[ 91%] \u001b[32mBuilding CXX object CMakeFiles/fasttext-static_pic.dir/src/utils.cc.o\u001b[0m\n",
            "[ 93%] \u001b[32mBuilding CXX object CMakeFiles/fasttext-static_pic.dir/src/vector.cc.o\u001b[0m\n",
            "[ 95%] \u001b[32m\u001b[1mLinking CXX static library libfasttext_pic.a\u001b[0m\n",
            "[ 95%] Built target fasttext-static_pic\n",
            "[ 97%] \u001b[32mBuilding CXX object CMakeFiles/fasttext-bin.dir/src/main.cc.o\u001b[0m\n",
            "[100%] \u001b[32m\u001b[1mLinking CXX executable fasttext\u001b[0m\n",
            "[100%] Built target fasttext-bin\n",
            "[ 31%] Built target fasttext-shared\n",
            "[ 63%] Built target fasttext-static\n",
            "[ 95%] Built target fasttext-static_pic\n",
            "[100%] Built target fasttext-bin\n",
            "\u001b[36mInstall the project...\u001b[0m\n",
            "-- Install configuration: \"\"\n",
            "-- Installing: /usr/local/lib/pkgconfig/fasttext.pc\n",
            "-- Installing: /usr/local/lib/libfasttext.so.0\n",
            "-- Installing: /usr/local/lib/libfasttext.so\n",
            "-- Installing: /usr/local/lib/libfasttext.a\n",
            "-- Installing: /usr/local/lib/libfasttext_pic.a\n",
            "-- Installing: /usr/local/bin/fasttext\n",
            "-- Installing: /usr/local/include/fasttext/args.h\n",
            "-- Installing: /usr/local/include/fasttext/autotune.h\n",
            "-- Installing: /usr/local/include/fasttext/densematrix.h\n",
            "-- Installing: /usr/local/include/fasttext/dictionary.h\n",
            "-- Installing: /usr/local/include/fasttext/fasttext.h\n",
            "-- Installing: /usr/local/include/fasttext/loss.h\n",
            "-- Installing: /usr/local/include/fasttext/matrix.h\n",
            "-- Installing: /usr/local/include/fasttext/meter.h\n",
            "-- Installing: /usr/local/include/fasttext/model.h\n",
            "-- Installing: /usr/local/include/fasttext/productquantizer.h\n",
            "-- Installing: /usr/local/include/fasttext/quantmatrix.h\n",
            "-- Installing: /usr/local/include/fasttext/real.h\n",
            "-- Installing: /usr/local/include/fasttext/utils.h\n",
            "-- Installing: /usr/local/include/fasttext/vector.h\n"
          ]
        }
      ],
      "source": [
        "!cd fastText && mkdir build && cd build && cmake ..  && make && make install"
      ]
    },
    {
      "cell_type": "markdown",
      "metadata": {
        "id": "7ApV6Bzwc1_R"
      },
      "source": [
        "Instalacja API do Pythona:"
      ]
    },
    {
      "cell_type": "code",
      "execution_count": 4,
      "metadata": {
        "colab": {
          "base_uri": "https://localhost:8080/"
        },
        "id": "xElxRxJycnDA",
        "outputId": "ef4ff9a4-c2e9-4a67-a4f3-3a2f6964e88c"
      },
      "outputs": [
        {
          "name": "stdout",
          "output_type": "stream",
          "text": [
            "Processing /content/fastText\n",
            "  Installing build dependencies ... \u001b[?25l\u001b[?25hdone\n",
            "  Getting requirements to build wheel ... \u001b[?25l\u001b[?25hdone\n",
            "  Preparing metadata (pyproject.toml) ... \u001b[?25l\u001b[?25hdone\n",
            "Collecting pybind11>=2.2 (from fasttext==0.9.2)\n",
            "  Using cached pybind11-2.12.0-py3-none-any.whl (234 kB)\n",
            "Requirement already satisfied: setuptools>=0.7.0 in /usr/local/lib/python3.10/dist-packages (from fasttext==0.9.2) (67.7.2)\n",
            "Requirement already satisfied: numpy in /usr/local/lib/python3.10/dist-packages (from fasttext==0.9.2) (1.25.2)\n",
            "Building wheels for collected packages: fasttext\n",
            "  Building wheel for fasttext (pyproject.toml) ... \u001b[?25l\u001b[?25hdone\n",
            "  Created wheel for fasttext: filename=fasttext-0.9.2-cp310-cp310-linux_x86_64.whl size=4239625 sha256=7c17babd751d89307dfe34b01a62853e3c9440466444238a3f6a5cb44bd18ae2\n",
            "  Stored in directory: /tmp/pip-ephem-wheel-cache-txj_ebq6/wheels/8b/05/af/3cfae069d904597d44b309c956601b611bdf8967bcbe968903\n",
            "Successfully built fasttext\n",
            "Installing collected packages: pybind11, fasttext\n",
            "Successfully installed fasttext-0.9.2 pybind11-2.12.0\n"
          ]
        }
      ],
      "source": [
        "!cd fastText && pip install ."
      ]
    },
    {
      "cell_type": "markdown",
      "metadata": {
        "id": "7ceW8c2XdOf4"
      },
      "source": [
        "# Dane do etapu nr 1\n",
        "\n",
        "## Korpus\n",
        "Korpus (zbiór dokumentów) do realizacji etapu nr 1 pochodzi z repozytorium [TweetEval](https://github.com/cardiffnlp/tweeteval). Repozytorium zawiera 7 różnorodnych zbiorów danych, zawierających zanonimizowane wpisy z [Twittera](https://twitter.com), anotowane następującymi zjawiskami: 1) emocje (emotion), 2) emotikony (emoji), 3) ironia (irony), 4) mowa nienawiści (hate speech), 5) mowa ofensywna (offensive language), 6) wydźwięk (sentiment), 7) nastawienie (stance)."
      ]
    },
    {
      "cell_type": "code",
      "execution_count": 5,
      "metadata": {
        "colab": {
          "base_uri": "https://localhost:8080/"
        },
        "id": "UR_GONyvotC_",
        "outputId": "765caca5-32b7-406e-e903-7a78548e0daf"
      },
      "outputs": [
        {
          "name": "stdout",
          "output_type": "stream",
          "text": [
            "Mounted at /content/drive\n",
            "fatal: destination path '/content/drive/My Drive/tweeteval' already exists and is not an empty directory.\n"
          ]
        }
      ],
      "source": [
        "from google.colab import drive\n",
        "drive.mount('/content/drive')\n",
        "!git clone https://github.com/cardiffnlp/tweeteval '/content/drive/My Drive/tweeteval'\n",
        "data_dir = '/content/drive/My Drive/tweeteval'"
      ]
    },
    {
      "cell_type": "markdown",
      "metadata": {
        "id": "Kb6c5nuvgiaF"
      },
      "source": [
        "## Zawartość korpusu\n",
        "\n",
        "W katalogu głównym (tweeteval) znajdują się następujące elementy:\n",
        "*   `datasets` - katalog ze zbiorami danych\n",
        "   * `emotion` - tweety anotowane emocjami\n",
        "     * `mapping.txt` - identyfikatory etykiet oraz ich opis\n",
        "     * `train_text.txt` - wpisy z Twittera (część ucząca)\n",
        "     * `train_labels.txt` - etykiety wpisów z Twittera (część ucząca)\n",
        "     * `test_*.txt, valid_*.txt` - j.w. (część testowa i walidacyjna)\n",
        "   * `emoji` - tweety anotowane emotikonami\n",
        "   * `...` - katalogi zawierające tweety anotowane pozostałymi zjawiskami\n",
        "*   `predictions` - katalog z przykładowymi predykcjami\n",
        "   * `emotion.txt` - etykiety modelu predykcyjnego dla części testowej danych `emotion`\n",
        "   * `emoji.txt` - j.w. dla cz. testowej danych `emoji`\n",
        "   * `...` - j.w. dla pozostałych danych\n",
        "*   `evaluation_script.py` - skrypt do ewaluacji\n",
        "\n",
        "## Model języka\n",
        "\n",
        "Na potrzeby zadania został przygotowany model Skip-Gram reprezentacji wektorowej słów, zbudowany na wielkim korpusie tweetów dotyczących kursu BTC. Wersja binarna tego modelu dostępna jest w 2 wariantach:\n",
        "* wektory 100-elementowe (1.7GB, fasttext_tweetmodel_btc_sg_100_en.bin)\n",
        "* wektory 20-elementowe (350MB, fasttext_tweetmodel_btc_sg_20_en.bin)\n",
        "\n",
        "Na potrzeby prezentacji przykładowego rozwiązania zostanie wykorzystany mniejszy model. Do realizacji ostatecznego rozwiązania należy wykorzystać większy model.\n",
        "\n"
      ]
    },
    {
      "cell_type": "markdown",
      "metadata": {
        "id": "stk-sYt9o6sD"
      },
      "source": [
        "# Model bazowy rozpoznawania emocji\n",
        "\n",
        "Model bazowy, zbudowany z wykorzystaniem narzędzia fastText (oparty o regresję logistyczną), będzie punktem wyjścia do porównania się z modelami opartymi o sieci LSTM, których skonstruowanie i ewaluacja na wybranych zadaniach będzie celem etapu nr 1.\n",
        "\n",
        "Pobranie mniejszego modelu reprezentacji języka tweetów:\n"
      ]
    },
    {
      "cell_type": "code",
      "execution_count": 6,
      "metadata": {
        "id": "ChAehfcHggvF"
      },
      "outputs": [],
      "source": [
        "# należy wgrać plik z katalogu \"dane\" o nazwie fasttext_tweetmodel_btc_sg_20_en.bin"
      ]
    },
    {
      "cell_type": "markdown",
      "metadata": {
        "id": "NkacglPdr96Y"
      },
      "source": [
        "Wydobycie słownika wektorów z binarnego modelu języka:"
      ]
    },
    {
      "cell_type": "code",
      "execution_count": 7,
      "metadata": {
        "id": "CHyqkncyrZru"
      },
      "outputs": [],
      "source": [
        "!python fastText/python/doc/examples/bin_to_vec.py \"drive/My Drive/tweeteval/fasttext_tweetmodel_btc_sg_20_en.bin\" > \"drive/My Drive/tweeteval/fasttext_tweetmodel_btc_sg_20_en.vec\""
      ]
    },
    {
      "cell_type": "markdown",
      "metadata": {
        "id": "_E_5UDKYyzwp"
      },
      "source": [
        "Dodanie prefiksu `__label__` do etykiet zbioru `emotion`:"
      ]
    },
    {
      "cell_type": "code",
      "execution_count": 8,
      "metadata": {
        "id": "OjUQvyKIsKV8"
      },
      "outputs": [],
      "source": [
        "!sed 's/^/__label__/g' \"drive/My Drive/tweeteval/datasets/emotion/train_labels.txt\" > \"drive/My Drive/tweeteval/train_labels_emo.txt\"\n",
        "!sed 's/^/__label__/g' \"drive/My Drive/tweeteval/datasets/emotion/test_labels.txt\" > \"drive/My Drive/tweeteval/test_labels_emo.txt\"\n",
        "!sed 's/^/__label__/g' \"drive/My Drive/tweeteval/datasets/emotion/val_labels.txt\" > \"drive/My Drive/tweeteval/val_labels_emo.txt\""
      ]
    },
    {
      "cell_type": "markdown",
      "metadata": {
        "id": "IlHv_VJ5zIHw"
      },
      "source": [
        "Przygotowanie zbioru uczącego, testowego i walidacyjnego w formacie `fastText`:"
      ]
    },
    {
      "cell_type": "code",
      "execution_count": 9,
      "metadata": {
        "id": "nNdjvsT8siZ1"
      },
      "outputs": [],
      "source": [
        "!paste -d \" \" \"drive/My Drive/tweeteval/datasets/emotion/train_text.txt\" \"drive/My Drive/tweeteval/train_labels_emo.txt\" > \"drive/My Drive/tweeteval/train_emo.txt\"\n",
        "!paste -d \" \" \"drive/My Drive/tweeteval/datasets/emotion/test_text.txt\" \"drive/My Drive/tweeteval/test_labels_emo.txt\" > \"drive/My Drive/tweeteval/test_emo.txt\"\n",
        "!paste -d \" \" \"drive/My Drive/tweeteval/datasets/emotion/val_text.txt\" \"drive/My Drive/tweeteval/val_labels_emo.txt\" > \"drive/My Drive/tweeteval/val_emo.txt\""
      ]
    },
    {
      "cell_type": "markdown",
      "metadata": {
        "id": "ro5A5HAEzGNJ"
      },
      "source": [
        "Trenowanie modelu z wykorzystaniem wejścia `train_emo.txt`, z określeniem wyjściowej nazwy modelu `emo_model`, dla wektorów słów o wymiarze `20`, z wykorzystaniem pretrenowanych wektorów z pliku `fasttext_tweetmodel_btc_sg_20_en.vec` i z uruchomieniem dostrajania hiperparametrów na zbiorze walidacyjnym `val_emo.txt`:"
      ]
    },
    {
      "cell_type": "code",
      "execution_count": 10,
      "metadata": {
        "colab": {
          "base_uri": "https://localhost:8080/"
        },
        "id": "GChCYj1ptoEj",
        "outputId": "165a7c44-9fc9-4816-fbdf-2098dca2efb0"
      },
      "outputs": [
        {
          "name": "stdout",
          "output_type": "stream",
          "text": [
            "Warning : dim is manually set to a specific value. It will not be automatically optimized.\n",
            "Progress: 100.0% Trials:   14 Best score:  0.673797 ETA:   0h 0m 0s\n",
            "Training again with best arguments\n",
            "Read 0M words\n",
            "Number of words:  12887\n",
            "Number of labels: 4\n",
            "Progress: 100.0% words/sec/thread:   48854 lr:  0.000000 avg.loss:  0.595434 ETA:   0h 0m 0s\n"
          ]
        }
      ],
      "source": [
        "!fasttext supervised -input \"drive/My Drive/tweeteval/train_emo.txt\" -output emo_model -dim 20 -pretrainedVectors \"drive/My Drive/tweeteval/fasttext_tweetmodel_btc_sg_20_en.vec\" -autotune-validation \"drive/My Drive/tweeteval/val_emo.txt\""
      ]
    },
    {
      "cell_type": "markdown",
      "metadata": {
        "id": "pkp4BDnvzxrN"
      },
      "source": [
        "Podstawowa ewaluacja modelu z wykorzystaniem `fastText`, wynikiem jest precyzja (P - precision) i kompletność (R - recall) w wariancie [weighted](https://scikit-learn.org/stable/modules/generated/sklearn.metrics.precision_recall_fscore_support.html)."
      ]
    },
    {
      "cell_type": "code",
      "execution_count": 11,
      "metadata": {
        "colab": {
          "base_uri": "https://localhost:8080/"
        },
        "id": "90GbSCCgvmCj",
        "outputId": "36a3aad8-6911-430a-bdb4-7b6fe3f6a712"
      },
      "outputs": [
        {
          "name": "stdout",
          "output_type": "stream",
          "text": [
            "N\t1421\n",
            "P@1\t0.69\n",
            "R@1\t0.69\n"
          ]
        }
      ],
      "source": [
        "!fasttext test emo_model.bin \"drive/My Drive/tweeteval/test_emo.txt\""
      ]
    },
    {
      "cell_type": "markdown",
      "metadata": {
        "id": "OoqaR5To0UWq"
      },
      "source": [
        "Rozszerzona ewaluacja modelu z wykorzystaniem `fastText`, wynikiem jest precyzja (P - precision), kompletność (R - recall) oraz F1-score dla każdej etykiety w wariancie [weighted](https://scikit-learn.org/stable/modules/generated/sklearn.metrics.precision_recall_fscore_support.html)."
      ]
    },
    {
      "cell_type": "code",
      "execution_count": 12,
      "metadata": {
        "colab": {
          "base_uri": "https://localhost:8080/"
        },
        "id": "e3xFd-RDwv_w",
        "outputId": "b9324f05-aad1-4123-a9f7-d6faca117e2b"
      },
      "outputs": [
        {
          "name": "stdout",
          "output_type": "stream",
          "text": [
            "F1-Score : 0.768615  Precision : 0.694645  Recall : 0.860215   __label__0\n",
            "F1-Score : 0.673657  Precision : 0.674541  Recall : 0.672775   __label__3\n",
            "F1-Score : 0.660436  Precision : 0.746479  Recall : 0.592179   __label__1\n",
            "F1-Score : 0.340426  Precision : 0.492308  Recall : 0.260163   __label__2\n",
            "N\t1421\n",
            "P@1\t0.690\n",
            "R@1\t0.690\n"
          ]
        }
      ],
      "source": [
        "!fasttext test-label emo_model.bin \"drive/My Drive/tweeteval/test_emo.txt\""
      ]
    },
    {
      "cell_type": "markdown",
      "metadata": {
        "id": "Y__FOjZO0jrw"
      },
      "source": [
        "Przygotowanie danych do ewaluacji z wykorzystaniem skryptu dołączonego do zbioru TweetEval:"
      ]
    },
    {
      "cell_type": "code",
      "execution_count": 13,
      "metadata": {
        "colab": {
          "base_uri": "https://localhost:8080/"
        },
        "id": "dZyri0pVw43n",
        "outputId": "5674d83c-77cd-43ad-88f6-af3b2239f8de"
      },
      "outputs": [
        {
          "name": "stdout",
          "output_type": "stream",
          "text": [
            "mkdir: cannot create directory ‘drive/My Drive/tweeteval/predictions2’: File exists\n"
          ]
        }
      ],
      "source": [
        "!mkdir \"drive/My Drive/tweeteval/predictions2\""
      ]
    },
    {
      "cell_type": "code",
      "execution_count": 14,
      "metadata": {
        "id": "1gMgdnILxScS"
      },
      "outputs": [],
      "source": [
        "!fasttext predict emo_model.bin \"drive/My Drive/tweeteval/datasets/emotion/test_text.txt\" | sed 's/__label__//g' > \"drive/My Drive/tweeteval/predictions2/emotion.txt\""
      ]
    },
    {
      "cell_type": "markdown",
      "metadata": {
        "id": "xRwh9aIx0s3I"
      },
      "source": [
        "Uruchomienie ewaluacji. Oprócz wyników P, R, F1 [weighted]((https://scikit-learn.org/stable/modules/generated/sklearn.metrics.precision_recall_fscore_support.html)) dla każdej etykiety, otrzymujemy również wyniki w wariancie [macro]((https://scikit-learn.org/stable/modules/generated/sklearn.metrics.precision_recall_fscore_support.html)). **Ostateczną miarą (TweetEval Score) jest miara F1-score w wariancie macro i tę miarę proszę traktować jako kluczową przy porównywaniu rozwiązań.**"
      ]
    },
    {
      "cell_type": "code",
      "execution_count": 15,
      "metadata": {
        "colab": {
          "base_uri": "https://localhost:8080/"
        },
        "id": "RpAjMNr2xn-e",
        "outputId": "cacbef8c-2185-49ea-fc0a-eaa37be76263"
      },
      "outputs": [
        {
          "name": "stdout",
          "output_type": "stream",
          "text": [
            "0 {'precision': 0.6946454413892909, 'recall': 0.8602150537634409, 'f1-score': 0.7686148919135308, 'support': 558}\n",
            "1 {'precision': 0.7464788732394366, 'recall': 0.5921787709497207, 'f1-score': 0.660436137071651, 'support': 358}\n",
            "2 {'precision': 0.49230769230769234, 'recall': 0.2601626016260163, 'f1-score': 0.34042553191489366, 'support': 123}\n",
            "3 {'precision': 0.6745406824146981, 'recall': 0.6727748691099477, 'f1-score': 0.673656618610747, 'support': 382}\n",
            "accuracy 0.6903589021815623\n",
            "macro avg {'precision': 0.6519931723377794, 'recall': 0.5963328238622814, 'f1-score': 0.6107832948777057, 'support': 1421}\n",
            "weighted avg {'precision': 0.6847853481711494, 'recall': 0.6903589021815623, 'f1-score': 0.6787701727616035, 'support': 1421}\n",
            "------------------------------\n",
            "TweetEval Score (emotion): 0.6107832948777057\n"
          ]
        }
      ],
      "source": [
        "!python \"drive/My Drive/tweeteval/evaluation_script.py\" --tweeteval_path \"drive/My Drive/tweeteval/datasets\" --predictions_path \"drive/My Drive/tweeteval/predictions2\" --task emotion"
      ]
    },
    {
      "cell_type": "markdown",
      "metadata": {
        "id": "FV9_Gnrz2T0m"
      },
      "source": [
        "# Budowa modeli EmoTweet\n",
        "\n",
        "W tej sekcji Państwa zadaniem będzie przygotowanie modeli sieci LSTM oraz modeli bazowych opartych o regresję logistyczną (fastText) dla wybranych 2 zjawisk ze zbioru TweetEval. Dla sieci LSTM kolejne jednostki sieci rekurencyjnej na wejściu dostają reprezentację wektorową kolejnych wyrazów w tekście. Wyjście z ostatniej jednostki podlega klasyfikacji. W celu usprawnienia zadania, przedstawiona zostanie metoda reprezentacji wektorowej tekstu z wykorzystaniem Pythonowego API do narzędzia fastText. Do ewaluacji modeli należy wykorzystać uprzednio zaprezentowany skrypt `tweeteval/evaluation_script.py`.\n",
        "\n",
        "## Wektoryzacja tekstu\n"
      ]
    },
    {
      "cell_type": "code",
      "execution_count": 16,
      "metadata": {
        "id": "pmdakZza43X8"
      },
      "outputs": [],
      "source": [
        "# inicjalizacja biblioteki\n",
        "import fasttext"
      ]
    },
    {
      "cell_type": "code",
      "execution_count": 17,
      "metadata": {
        "id": "DpJZYWyd6EK-"
      },
      "outputs": [],
      "source": [
        "# ładowanie modelu\n",
        "MODEL_PATH = 'drive/My Drive/tweeteval/fasttext_tweetmodel_btc_sg_20_en.bin'\n",
        "model = fasttext.load_model(MODEL_PATH)"
      ]
    },
    {
      "cell_type": "code",
      "execution_count": 18,
      "metadata": {
        "colab": {
          "base_uri": "https://localhost:8080/",
          "height": 423
        },
        "id": "yRs60cO96zk5",
        "outputId": "513607a7-153c-4920-b33e-4641bcce97e9"
      },
      "outputs": [
        {
          "data": {
            "application/vnd.google.colaboratory.intrinsic+json": {
              "summary": "{\n  \"name\": \"train_texts\",\n  \"rows\": 3257,\n  \"fields\": [\n    {\n      \"column\": 0,\n      \"properties\": {\n        \"dtype\": \"string\",\n        \"num_unique_values\": 3232,\n        \"samples\": [\n          \"@user Yeah, but bad part is the #terrorism #terror Muslims won't be the ones leaving #ObamaLegacy #nationalsecurity #disaster #Obama \",\n          \"I feel like an appendix. I don't have a purpose. #sad #depressed #depression #alone #lonely #broken #sadness #cry #hurt #crying #life \",\n          \"I start work tmrw yall, i'm nervous lol \"\n        ],\n        \"semantic_type\": \"\",\n        \"description\": \"\"\n      }\n    }\n  ]\n}",
              "type": "dataframe",
              "variable_name": "train_texts"
            },
            "text/html": [
              "\n",
              "  <div id=\"df-da002a0f-72d2-4654-8515-6defa88084c6\" class=\"colab-df-container\">\n",
              "    <div>\n",
              "<style scoped>\n",
              "    .dataframe tbody tr th:only-of-type {\n",
              "        vertical-align: middle;\n",
              "    }\n",
              "\n",
              "    .dataframe tbody tr th {\n",
              "        vertical-align: top;\n",
              "    }\n",
              "\n",
              "    .dataframe thead th {\n",
              "        text-align: right;\n",
              "    }\n",
              "</style>\n",
              "<table border=\"1\" class=\"dataframe\">\n",
              "  <thead>\n",
              "    <tr style=\"text-align: right;\">\n",
              "      <th></th>\n",
              "      <th>0</th>\n",
              "    </tr>\n",
              "  </thead>\n",
              "  <tbody>\n",
              "    <tr>\n",
              "      <th>0</th>\n",
              "      <td>“Worry is a down payment on a problem you may ...</td>\n",
              "    </tr>\n",
              "    <tr>\n",
              "      <th>1</th>\n",
              "      <td>My roommate: it's okay that we can't spell bec...</td>\n",
              "    </tr>\n",
              "    <tr>\n",
              "      <th>2</th>\n",
              "      <td>No but that's so cute. Atsu was probably shy a...</td>\n",
              "    </tr>\n",
              "    <tr>\n",
              "      <th>3</th>\n",
              "      <td>Rooneys fucking untouchable isn't he? Been fuc...</td>\n",
              "    </tr>\n",
              "    <tr>\n",
              "      <th>4</th>\n",
              "      <td>it's pretty depressing when u hit pan on ur fa...</td>\n",
              "    </tr>\n",
              "    <tr>\n",
              "      <th>...</th>\n",
              "      <td>...</td>\n",
              "    </tr>\n",
              "    <tr>\n",
              "      <th>3252</th>\n",
              "      <td>I get discouraged because I try for 5 fucking ...</td>\n",
              "    </tr>\n",
              "    <tr>\n",
              "      <th>3253</th>\n",
              "      <td>The @user are in contention and hosting @user ...</td>\n",
              "    </tr>\n",
              "    <tr>\n",
              "      <th>3254</th>\n",
              "      <td>@user @user @user @user @user as a fellow UP g...</td>\n",
              "    </tr>\n",
              "    <tr>\n",
              "      <th>3255</th>\n",
              "      <td>You have a #problem? Yes! Can you do #somethin...</td>\n",
              "    </tr>\n",
              "    <tr>\n",
              "      <th>3256</th>\n",
              "      <td>@user @user i will fight this guy! Don't insul...</td>\n",
              "    </tr>\n",
              "  </tbody>\n",
              "</table>\n",
              "<p>3257 rows × 1 columns</p>\n",
              "</div>\n",
              "    <div class=\"colab-df-buttons\">\n",
              "\n",
              "  <div class=\"colab-df-container\">\n",
              "    <button class=\"colab-df-convert\" onclick=\"convertToInteractive('df-da002a0f-72d2-4654-8515-6defa88084c6')\"\n",
              "            title=\"Convert this dataframe to an interactive table.\"\n",
              "            style=\"display:none;\">\n",
              "\n",
              "  <svg xmlns=\"http://www.w3.org/2000/svg\" height=\"24px\" viewBox=\"0 -960 960 960\">\n",
              "    <path d=\"M120-120v-720h720v720H120Zm60-500h600v-160H180v160Zm220 220h160v-160H400v160Zm0 220h160v-160H400v160ZM180-400h160v-160H180v160Zm440 0h160v-160H620v160ZM180-180h160v-160H180v160Zm440 0h160v-160H620v160Z\"/>\n",
              "  </svg>\n",
              "    </button>\n",
              "\n",
              "  <style>\n",
              "    .colab-df-container {\n",
              "      display:flex;\n",
              "      gap: 12px;\n",
              "    }\n",
              "\n",
              "    .colab-df-convert {\n",
              "      background-color: #E8F0FE;\n",
              "      border: none;\n",
              "      border-radius: 50%;\n",
              "      cursor: pointer;\n",
              "      display: none;\n",
              "      fill: #1967D2;\n",
              "      height: 32px;\n",
              "      padding: 0 0 0 0;\n",
              "      width: 32px;\n",
              "    }\n",
              "\n",
              "    .colab-df-convert:hover {\n",
              "      background-color: #E2EBFA;\n",
              "      box-shadow: 0px 1px 2px rgba(60, 64, 67, 0.3), 0px 1px 3px 1px rgba(60, 64, 67, 0.15);\n",
              "      fill: #174EA6;\n",
              "    }\n",
              "\n",
              "    .colab-df-buttons div {\n",
              "      margin-bottom: 4px;\n",
              "    }\n",
              "\n",
              "    [theme=dark] .colab-df-convert {\n",
              "      background-color: #3B4455;\n",
              "      fill: #D2E3FC;\n",
              "    }\n",
              "\n",
              "    [theme=dark] .colab-df-convert:hover {\n",
              "      background-color: #434B5C;\n",
              "      box-shadow: 0px 1px 3px 1px rgba(0, 0, 0, 0.15);\n",
              "      filter: drop-shadow(0px 1px 2px rgba(0, 0, 0, 0.3));\n",
              "      fill: #FFFFFF;\n",
              "    }\n",
              "  </style>\n",
              "\n",
              "    <script>\n",
              "      const buttonEl =\n",
              "        document.querySelector('#df-da002a0f-72d2-4654-8515-6defa88084c6 button.colab-df-convert');\n",
              "      buttonEl.style.display =\n",
              "        google.colab.kernel.accessAllowed ? 'block' : 'none';\n",
              "\n",
              "      async function convertToInteractive(key) {\n",
              "        const element = document.querySelector('#df-da002a0f-72d2-4654-8515-6defa88084c6');\n",
              "        const dataTable =\n",
              "          await google.colab.kernel.invokeFunction('convertToInteractive',\n",
              "                                                    [key], {});\n",
              "        if (!dataTable) return;\n",
              "\n",
              "        const docLinkHtml = 'Like what you see? Visit the ' +\n",
              "          '<a target=\"_blank\" href=https://colab.research.google.com/notebooks/data_table.ipynb>data table notebook</a>'\n",
              "          + ' to learn more about interactive tables.';\n",
              "        element.innerHTML = '';\n",
              "        dataTable['output_type'] = 'display_data';\n",
              "        await google.colab.output.renderOutput(dataTable, element);\n",
              "        const docLink = document.createElement('div');\n",
              "        docLink.innerHTML = docLinkHtml;\n",
              "        element.appendChild(docLink);\n",
              "      }\n",
              "    </script>\n",
              "  </div>\n",
              "\n",
              "\n",
              "<div id=\"df-a9bba715-29f8-4062-ba0e-edd399d75858\">\n",
              "  <button class=\"colab-df-quickchart\" onclick=\"quickchart('df-a9bba715-29f8-4062-ba0e-edd399d75858')\"\n",
              "            title=\"Suggest charts\"\n",
              "            style=\"display:none;\">\n",
              "\n",
              "<svg xmlns=\"http://www.w3.org/2000/svg\" height=\"24px\"viewBox=\"0 0 24 24\"\n",
              "     width=\"24px\">\n",
              "    <g>\n",
              "        <path d=\"M19 3H5c-1.1 0-2 .9-2 2v14c0 1.1.9 2 2 2h14c1.1 0 2-.9 2-2V5c0-1.1-.9-2-2-2zM9 17H7v-7h2v7zm4 0h-2V7h2v10zm4 0h-2v-4h2v4z\"/>\n",
              "    </g>\n",
              "</svg>\n",
              "  </button>\n",
              "\n",
              "<style>\n",
              "  .colab-df-quickchart {\n",
              "      --bg-color: #E8F0FE;\n",
              "      --fill-color: #1967D2;\n",
              "      --hover-bg-color: #E2EBFA;\n",
              "      --hover-fill-color: #174EA6;\n",
              "      --disabled-fill-color: #AAA;\n",
              "      --disabled-bg-color: #DDD;\n",
              "  }\n",
              "\n",
              "  [theme=dark] .colab-df-quickchart {\n",
              "      --bg-color: #3B4455;\n",
              "      --fill-color: #D2E3FC;\n",
              "      --hover-bg-color: #434B5C;\n",
              "      --hover-fill-color: #FFFFFF;\n",
              "      --disabled-bg-color: #3B4455;\n",
              "      --disabled-fill-color: #666;\n",
              "  }\n",
              "\n",
              "  .colab-df-quickchart {\n",
              "    background-color: var(--bg-color);\n",
              "    border: none;\n",
              "    border-radius: 50%;\n",
              "    cursor: pointer;\n",
              "    display: none;\n",
              "    fill: var(--fill-color);\n",
              "    height: 32px;\n",
              "    padding: 0;\n",
              "    width: 32px;\n",
              "  }\n",
              "\n",
              "  .colab-df-quickchart:hover {\n",
              "    background-color: var(--hover-bg-color);\n",
              "    box-shadow: 0 1px 2px rgba(60, 64, 67, 0.3), 0 1px 3px 1px rgba(60, 64, 67, 0.15);\n",
              "    fill: var(--button-hover-fill-color);\n",
              "  }\n",
              "\n",
              "  .colab-df-quickchart-complete:disabled,\n",
              "  .colab-df-quickchart-complete:disabled:hover {\n",
              "    background-color: var(--disabled-bg-color);\n",
              "    fill: var(--disabled-fill-color);\n",
              "    box-shadow: none;\n",
              "  }\n",
              "\n",
              "  .colab-df-spinner {\n",
              "    border: 2px solid var(--fill-color);\n",
              "    border-color: transparent;\n",
              "    border-bottom-color: var(--fill-color);\n",
              "    animation:\n",
              "      spin 1s steps(1) infinite;\n",
              "  }\n",
              "\n",
              "  @keyframes spin {\n",
              "    0% {\n",
              "      border-color: transparent;\n",
              "      border-bottom-color: var(--fill-color);\n",
              "      border-left-color: var(--fill-color);\n",
              "    }\n",
              "    20% {\n",
              "      border-color: transparent;\n",
              "      border-left-color: var(--fill-color);\n",
              "      border-top-color: var(--fill-color);\n",
              "    }\n",
              "    30% {\n",
              "      border-color: transparent;\n",
              "      border-left-color: var(--fill-color);\n",
              "      border-top-color: var(--fill-color);\n",
              "      border-right-color: var(--fill-color);\n",
              "    }\n",
              "    40% {\n",
              "      border-color: transparent;\n",
              "      border-right-color: var(--fill-color);\n",
              "      border-top-color: var(--fill-color);\n",
              "    }\n",
              "    60% {\n",
              "      border-color: transparent;\n",
              "      border-right-color: var(--fill-color);\n",
              "    }\n",
              "    80% {\n",
              "      border-color: transparent;\n",
              "      border-right-color: var(--fill-color);\n",
              "      border-bottom-color: var(--fill-color);\n",
              "    }\n",
              "    90% {\n",
              "      border-color: transparent;\n",
              "      border-bottom-color: var(--fill-color);\n",
              "    }\n",
              "  }\n",
              "</style>\n",
              "\n",
              "  <script>\n",
              "    async function quickchart(key) {\n",
              "      const quickchartButtonEl =\n",
              "        document.querySelector('#' + key + ' button');\n",
              "      quickchartButtonEl.disabled = true;  // To prevent multiple clicks.\n",
              "      quickchartButtonEl.classList.add('colab-df-spinner');\n",
              "      try {\n",
              "        const charts = await google.colab.kernel.invokeFunction(\n",
              "            'suggestCharts', [key], {});\n",
              "      } catch (error) {\n",
              "        console.error('Error during call to suggestCharts:', error);\n",
              "      }\n",
              "      quickchartButtonEl.classList.remove('colab-df-spinner');\n",
              "      quickchartButtonEl.classList.add('colab-df-quickchart-complete');\n",
              "    }\n",
              "    (() => {\n",
              "      let quickchartButtonEl =\n",
              "        document.querySelector('#df-a9bba715-29f8-4062-ba0e-edd399d75858 button');\n",
              "      quickchartButtonEl.style.display =\n",
              "        google.colab.kernel.accessAllowed ? 'block' : 'none';\n",
              "    })();\n",
              "  </script>\n",
              "</div>\n",
              "    </div>\n",
              "  </div>\n"
            ],
            "text/plain": [
              "                                                      0\n",
              "0     “Worry is a down payment on a problem you may ...\n",
              "1     My roommate: it's okay that we can't spell bec...\n",
              "2     No but that's so cute. Atsu was probably shy a...\n",
              "3     Rooneys fucking untouchable isn't he? Been fuc...\n",
              "4     it's pretty depressing when u hit pan on ur fa...\n",
              "...                                                 ...\n",
              "3252  I get discouraged because I try for 5 fucking ...\n",
              "3253  The @user are in contention and hosting @user ...\n",
              "3254  @user @user @user @user @user as a fellow UP g...\n",
              "3255  You have a #problem? Yes! Can you do #somethin...\n",
              "3256  @user @user i will fight this guy! Don't insul...\n",
              "\n",
              "[3257 rows x 1 columns]"
            ]
          },
          "execution_count": 18,
          "metadata": {},
          "output_type": "execute_result"
        }
      ],
      "source": [
        "# wczytanie danych treningowych\n",
        "import pandas as pd\n",
        "TRAIN_PATH = 'drive/My Drive/tweeteval/datasets/emotion/train_text.txt'\n",
        "train_texts = pd.read_csv(TRAIN_PATH, sep='\\t', header=None)\n",
        "train_texts"
      ]
    },
    {
      "cell_type": "code",
      "execution_count": 19,
      "metadata": {
        "colab": {
          "base_uri": "https://localhost:8080/"
        },
        "id": "Fk-7nV9x8C-Y",
        "outputId": "bc67f750-5dad-49e3-b4d9-03b4d272978d"
      },
      "outputs": [
        {
          "name": "stdout",
          "output_type": "stream",
          "text": [
            "“Worry -1 [-0.04189867  0.15429688  0.96717507  1.3809655   0.49123076 -0.5447607\n",
            " -0.11276884  0.20356484 -1.0640966  -1.6616327   0.03930127 -0.7224096\n",
            "  0.21334486 -0.5872285   0.2898182   0.81751084 -1.6077403   1.8038087\n",
            "  0.4850348   1.0643197 ]\n",
            "is 6 [ 0.24099417  0.13544752  0.7251924   0.32544732  0.27421224  0.31903243\n",
            "  0.7501186   0.22853182 -0.91543657  0.08587569  0.13866538 -0.38624704\n",
            " -0.30637258  0.13666666 -0.43992838 -0.12443608 -1.0383893  -0.06567164\n",
            "  0.17007533 -0.16708991]\n",
            "a 7 [-0.00810981 -0.03934941  0.81658655  0.56301105  0.43812367  0.29547286\n",
            "  0.4691784   0.07483605 -0.58705056  0.28240088 -0.6339584  -0.16187707\n",
            " -0.23376046 -0.1245347   0.03071329 -0.07603034 -0.9066614  -0.07007706\n",
            "  0.4522892  -0.15033531]\n",
            "down 174 [ 0.9175071  -1.0815151   0.07119758  0.34226617  0.9607946   0.5973182\n",
            "  0.91058624 -0.32068744 -0.72137564  1.2241784  -0.1882128  -0.23591968\n",
            " -0.02596712 -0.10194965 -0.09553405  0.36303622  0.22354192  0.4901933\n",
            "  0.5405883   0.5965071 ]\n",
            "payment 556 [ 0.6073219  -0.00891357  0.7414747   1.3249576   0.07864746  1.4985372\n",
            "  0.4708811   1.4519942   0.13019626 -0.07420245 -0.83968335 -0.05105841\n",
            " -0.28754452  0.36899182  0.7846754  -0.891886   -0.6211444   0.49265763\n",
            " -0.11467575 -0.0749438 ]\n",
            "on 14 [-0.09723835  0.3496086   0.6910995   0.28277752  0.8975253  -0.01230987\n",
            "  0.67500156  0.02879165 -0.786506    0.602648   -0.39817798  0.543332\n",
            " -0.46127442 -0.23781577  0.0184579  -0.28403515 -0.3935916   0.3259461\n",
            "  0.0507571  -0.03765008]\n",
            "a 7 [-0.00810981 -0.03934941  0.81658655  0.56301105  0.43812367  0.29547286\n",
            "  0.4691784   0.07483605 -0.58705056  0.28240088 -0.6339584  -0.16187707\n",
            " -0.23376046 -0.1245347   0.03071329 -0.07603034 -0.9066614  -0.07007706\n",
            "  0.4522892  -0.15033531]\n",
            "problem 1224 [ 0.9236216   0.13799877  0.9784595   1.5032955   0.31760898  0.13017276\n",
            "  0.5282482   0.4380176  -0.556051    0.11004172 -0.53169626 -0.7698464\n",
            " -0.21855882  0.10204052  0.089779    0.04558972 -0.4503975  -0.40340552\n",
            "  0.1640271   0.30253166]\n",
            "you 18 [ 0.36285082  0.23824042  0.92288643  0.33069703  0.61494684  0.62680995\n",
            "  0.8206055   0.49254185 -0.44717252 -0.47944754 -0.852041   -0.63990945\n",
            "  0.02505241 -0.43478322 -0.06202105  0.16197506 -0.36003593  0.2883114\n",
            "  0.73949414  0.5215194 ]\n",
            "may 309 [-0.20453136 -0.15716666  0.2648741   0.91359925  0.8807271   0.45750532\n",
            "  0.78538996  0.15402626 -0.9378929   0.49042216 -0.3321735  -0.6558436\n",
            "  0.08917101 -0.42916426 -0.4275598   0.3072008  -0.45899373 -0.02519113\n",
            "  0.34117666  0.12960152]\n",
            "never 299 [ 0.4569879  -0.43546084  0.8783896   0.8701302   0.47704792  0.46891853\n",
            "  0.77218413  0.28471166 -0.35907164 -0.17841178 -0.6685155  -1.0739613\n",
            "  0.17042854 -0.6416858  -0.0809866   0.52535385 -0.38173252  0.22777203\n",
            "  0.5776487   0.47688836]\n",
            "have'. -1 [-0.14791821  0.27410123  0.6040076   1.4533241   0.27587754  0.37697735\n",
            "  0.8350882   0.08774029 -0.9036173  -0.12468915 -0.8917518  -0.99509364\n",
            " -0.1603566  -0.50394845 -0.6500326   0.21711075 -0.20765467  0.57654476\n",
            "  0.976134   -0.09989043]\n",
            " Joyce -1 [ 0.3620899  -0.21890068  0.6421599   0.4646088  -0.23233397  0.01426617\n",
            "  0.75234526  0.06882509 -0.7289002   0.84054786 -0.8729406  -0.38942376\n",
            " -0.813916    0.52664775 -0.22176157  0.6487463  -0.97409683  1.1249645\n",
            " -0.6657481  -0.39433447]\n",
            "Meyer. 512882 [ 0.21895045  0.3844226   1.1516806   0.94822884  0.27445677  0.14578705\n",
            " -0.22505678 -0.32554576  0.16166015 -0.0054998  -1.2656554  -0.60765606\n",
            " -0.70257545  1.0171603  -0.3287179   0.5872529  -0.9836187   1.2412837\n",
            "  0.30786654 -0.36381623]\n",
            "#motivation 4480 [ 0.3188765   1.6882232  -0.5868895   0.6897793   0.95900065  0.80034953\n",
            " -1.3323131   1.2530718   0.0942677   0.2178247  -2.2693706  -0.7811642\n",
            "  0.01969428 -0.19465806 -1.6017233   1.0578989  -1.521254    1.5721912\n",
            "  0.43281424  1.6291353 ]\n",
            "#leadership 11070 [ 0.804105    1.703703   -0.27683935  1.0883378   1.2486427   0.71987647\n",
            " -1.2214324   0.31226104  0.28527248  0.43703973 -1.8948476  -0.66148883\n",
            "  0.5252311   0.3964793  -0.8544514   1.5619631  -1.4804806   0.9278764\n",
            " -0.8143877   1.1089797 ]\n",
            "#worry 238619 [ 1.659063   -0.08081658 -0.51301146  1.7041371   0.99064165  0.66747195\n",
            " -0.7270127   0.53979534  0.6186053  -0.26956725 -1.8310189  -1.1024348\n",
            " -0.0060048  -1.2603769  -1.9151248   0.394539   -0.64696866  1.3250468\n",
            "  0.07283593  0.45277843]\n"
          ]
        }
      ],
      "source": [
        "# wektoryzacja pierwszego tekstu\n",
        "first_text = train_texts[0][0]\n",
        "for word in fasttext.tokenize(first_text):\n",
        "  print(word, model.get_word_id(word), model.get_word_vector(word))"
      ]
    },
    {
      "cell_type": "markdown",
      "metadata": {
        "id": "NWb5iv7T9ML9"
      },
      "source": [
        "Proszę zwrócić uwagę, że fastText jest w stanie przyporządkować reprezentację wektorową nawet dla takich słów, których model języka nie widział w trakcie uczenia (pierwszy token wejściowego tekstu)."
      ]
    },
    {
      "cell_type": "markdown",
      "metadata": {
        "id": "eYtFNcbU9qSR"
      },
      "source": [
        "## Model klasyfikacji tekstu LSTM (2 pkt.)"
      ]
    },
    {
      "cell_type": "code",
      "execution_count": 27,
      "metadata": {
        "id": "SCdjSbj2oKt9"
      },
      "outputs": [],
      "source": [
        "device = 'cpu'"
      ]
    },
    {
      "cell_type": "code",
      "execution_count": 126,
      "metadata": {
        "id": "GUsbNdfMlp9D"
      },
      "outputs": [],
      "source": [
        "import fasttext\n",
        "import numpy as np\n",
        "import torch\n",
        "import torch.nn as nn\n",
        "import torch.optim as optim\n",
        "import torch.nn.functional as F\n",
        "import matplotlib.pyplot as plt\n",
        "from tqdm import tqdm\n",
        "\n",
        "from sklearn.model_selection import train_test_split\n",
        "from sklearn.metrics import accuracy_score\n",
        "from torch.nn.utils.rnn import pad_sequence\n",
        "from torch.utils.data import DataLoader, Dataset, TensorDataset\n",
        "from sklearn.metrics import classification_report\n",
        "\n",
        "class LSTMModel(nn.Module):\n",
        "    def __init__(self, input_dim, hidden_dim, output_dim, num_layers, dropout = 0.05):\n",
        "        super().__init__()\n",
        "\n",
        "        self.num_layers = num_layers\n",
        "        self.hidden_dim = hidden_dim\n",
        "        self.lstm = nn.LSTM(input_dim, self.hidden_dim, self.num_layers, batch_first = True, dropout = dropout)\n",
        "        self.dropout = nn.Dropout(dropout)\n",
        "        self.fc = nn.Linear(hidden_dim, output_dim)\n",
        "        self.relu = nn.ReLU()\n",
        "        self.softmax = nn.LogSoftmax()\n",
        "    def forward(self, x):\n",
        "        h0 = torch.zeros(self.num_layers, x.size(0), self.hidden_dim).to(device)\n",
        "        c0 = torch.zeros(self.num_layers, x.size(0), self.hidden_dim).to(device)\n",
        "\n",
        "        output, (hidden_state, _) = self.lstm(x, (h0, c0))\n",
        "        output = self.dropout(hidden_state[-1])\n",
        "        output = self.fc(output)\n",
        "        output = self.relu(output)\n",
        "        # output = self.softmax(output)\n",
        "        return output\n",
        "\n",
        "\n",
        "class TweetDataset(Dataset):\n",
        "    def __init__(self, tweets, labels):\n",
        "        self.tweets = tweets\n",
        "        self.labels = labels\n",
        "\n",
        "    def __len__(self):\n",
        "        return len(self.labels)\n",
        "\n",
        "    def __getitem__(self, idx):\n",
        "        return self.tweets[idx], self.labels[idx]"
      ]
    },
    {
      "cell_type": "markdown",
      "metadata": {
        "id": "n9E-pBUY90LF"
      },
      "source": [
        "## Trenowanie modeli LSTM dla ZJAWISKO_1 i ZJAWISKO_2 (2 pkt.)\n",
        "Należy wybrać 2 z 7 dostępnych podzbiorów z [TweetEval](https://github.com/cardiffnlp/tweeteval) anotowanych następującymi zjawiskami: 1) emocje (emotion), 2) emotikony (emoji), 3) ironia (irony), 4) mowa nienawiści (hate speech), 5) mowa ofensywna (offensive language), 6) wydźwięk (sentiment), 7) nastawienie (stance)."
      ]
    },
    {
      "cell_type": "code",
      "execution_count": 101,
      "metadata": {
        "id": "78zACCnmjZ-C"
      },
      "outputs": [],
      "source": [
        "MODEL_PATH = 'drive/My Drive/tweeteval/fasttext_tweetmodel_btc_sg_100_en.bin'\n",
        "fasttext_model = fasttext.load_model(MODEL_PATH)\n"
      ]
    },
    {
      "cell_type": "code",
      "execution_count": 137,
      "metadata": {
        "id": "-grRPk-QxZQW"
      },
      "outputs": [],
      "source": [
        "def get_dl(text_file, label_file, batch_size = 128):\n",
        "\n",
        "    with open(text_file, 'r') as file:\n",
        "        text_data = file.read()\n",
        "\n",
        "    text_lines = text_data.strip().split('\\n')\n",
        "\n",
        "    text_df = pd.DataFrame(text_lines)\n",
        "\n",
        "    text_vectors = [torch.tensor([fasttext_model.get_word_vector(word) for word in fasttext.tokenize(text)]) for text in text_df[0]]\n",
        "\n",
        "    X = pad_sequence(text_vectors, batch_first=True, padding_value=0.0)\n",
        "    X = X[:, :10]\n",
        "    labels = pd.read_csv(label_file, sep='\\t', header=None).to_numpy()\n",
        "    y = torch.tensor(labels).squeeze(1)\n",
        "    data_loader = DataLoader(TensorDataset(X, y), batch_size=batch_size, shuffle=True)\n",
        "\n",
        "    return data_loader\n",
        "\n",
        "def make_plot(epoch, train_loss, val_loss, train_acc, val_acc):\n",
        "  plt.figure(figsize=(12, 5))\n",
        "\n",
        "  plt.subplot(1, 2, 1)\n",
        "  plt.plot(epoch, train_loss, label='train')\n",
        "  plt.plot(epoch, val_loss, label='val')\n",
        "  plt.xlabel('Epoch')\n",
        "  plt.ylabel('Loss')\n",
        "  plt.title('Loss')\n",
        "  plt.legend()\n",
        "\n",
        "  plt.subplot(1, 2, 2)\n",
        "  plt.plot(epoch, train_acc, label='train')\n",
        "  plt.plot(epoch, val_acc, label='val')\n",
        "  plt.xlabel('Epoch')\n",
        "  plt.ylabel('Accuracy')\n",
        "  plt.title('Accuracy')\n",
        "  plt.legend()\n",
        "\n",
        "  plt.tight_layout()\n",
        "  plt.show()\n"
      ]
    },
    {
      "cell_type": "code",
      "execution_count": 147,
      "metadata": {
        "id": "Zf3OK2C5knST"
      },
      "outputs": [],
      "source": [
        "from typing import Tuple\n",
        "from torch.utils.data import DataLoader\n",
        "\n",
        "def count_correct(\n",
        "    y_pred: torch.Tensor, y_true: torch.Tensor\n",
        ") -> torch.Tensor:\n",
        "    preds = torch.argmax(y_pred, dim=1)\n",
        "    not_bg = (y_true != 255).float()\n",
        "    return ((preds == y_true).float() * not_bg).sum() / not_bg.sum()\n",
        "\n",
        "def validate(\n",
        "    model: nn.Module,\n",
        "    loss_fn: torch.nn.CrossEntropyLoss,\n",
        "    dataloader: DataLoader\n",
        ") -> Tuple[torch.Tensor, torch.Tensor]:\n",
        "    loss = 0\n",
        "    correct = 0\n",
        "    all = 0\n",
        "    for X_batch, y_batch in dataloader:\n",
        "        y_pred = model(X_batch.to(device))\n",
        "        all += 1\n",
        "        loss += loss_fn(y_pred, y_batch.to(device)).sum()\n",
        "        correct += count_correct(y_pred, y_batch.to(device))\n",
        "    return loss / all, correct / all\n",
        "\n",
        "def fit(\n",
        "    model: nn.Module, optimiser: optim.Optimizer,\n",
        "    loss_fn: torch.nn.CrossEntropyLoss, train_dl: DataLoader,\n",
        "    val_dl: DataLoader, epochs: int, patience: int = 5,\n",
        "    print_metrics: str = True\n",
        "):\n",
        "    epoch_log = []\n",
        "    train_loss_log = []\n",
        "    val_loss_log = []\n",
        "    train_acc_log = []\n",
        "    val_acc_log = []\n",
        "\n",
        "    best_loss = np.inf\n",
        "    counter = 0\n",
        "    for epoch in range(epochs):\n",
        "        epoch_log.append(epoch)\n",
        "\n",
        "        for X_batch, y_batch in tqdm(train_dl):\n",
        "            model.train()\n",
        "            X_batch, y_batch = X_batch.to(device), y_batch.to(device)\n",
        "            y_pred = model(X_batch)\n",
        "            loss = loss_fn(y_pred, y_batch)\n",
        "            loss.backward()\n",
        "            optimiser.step()\n",
        "            optimiser.zero_grad()\n",
        "            model.eval()\n",
        "\n",
        "        with torch.no_grad():\n",
        "            train_loss, train_acc = validate(model, loss_fn, train_dl)\n",
        "            val_loss, val_acc = validate(model, loss_fn, val_dl)\n",
        "\n",
        "            train_loss_log.append(train_loss.item())\n",
        "            val_loss_log.append(val_loss.item())\n",
        "\n",
        "            train_acc_log.append(train_acc.item())\n",
        "            val_acc_log.append(val_acc.item())\n",
        "\n",
        "\n",
        "        if print_metrics:\n",
        "            print(\n",
        "                f\"Epoch {epoch}: \"\n",
        "                f\"train loss = {train_loss:.3f} (acc: {train_acc:.3f}), \"\n",
        "                f\"validation loss = {val_loss:.3f} (acc: {val_acc:.3f})\"\n",
        "            )\n",
        "        if val_loss > best_loss:\n",
        "          counter += 1\n",
        "          if counter > patience:\n",
        "            break\n",
        "        else:\n",
        "          best_loss = val_loss\n",
        "          counter = 0\n",
        "    return epoch_log, train_loss_log, val_loss_log, train_acc_log, val_acc_log"
      ]
    },
    {
      "cell_type": "code",
      "execution_count": 130,
      "metadata": {
        "id": "mpshP0HTOqEP"
      },
      "outputs": [],
      "source": [
        "train_text_irony = '/content/drive/My Drive/tweeteval/datasets/irony/train_text.txt'\n",
        "train_label_irony = '/content/drive/My Drive/tweeteval/datasets/irony/train_labels.txt'\n",
        "test_text_irony = '/content/drive/My Drive/tweeteval/datasets/irony/val_text.txt'\n",
        "test_label_irony = '/content/drive/My Drive/tweeteval/datasets/irony/val_labels.txt'\n",
        "\n",
        "train_loader_irony = get_dl(train_text_irony, train_label_irony, batch_size = 128)\n",
        "val_loader_irony = get_dl(test_text_irony, test_label_irony, batch_size = 128)"
      ]
    },
    {
      "cell_type": "code",
      "execution_count": 149,
      "metadata": {
        "id": "nNWzrzKH5Y_f"
      },
      "outputs": [],
      "source": [
        "train_text_off = '/content/drive/My Drive/tweeteval/datasets/offensive/train_text.txt'\n",
        "train_label_off = '/content/drive/My Drive/tweeteval/datasets/offensive/train_labels.txt'\n",
        "test_text_off = '/content/drive/My Drive/tweeteval/datasets/offensive/val_text.txt'\n",
        "test_label_off = '/content/drive/My Drive/tweeteval/datasets/offensive/val_labels.txt'\n",
        "\n",
        "train_loader_off = get_dl(train_text_off, train_label_off, batch_size = 128)\n",
        "val_loader_off = get_dl(test_text_off, test_label_off, batch_size = 128)"
      ]
    },
    {
      "cell_type": "code",
      "execution_count": 145,
      "metadata": {
        "id": "qX1-q76l0d8f"
      },
      "outputs": [],
      "source": [
        "embedding_dim = 100\n",
        "hidden_dim = 32\n",
        "num_layers = 2\n",
        "output_dim = 2\n",
        "num_epochs = 50"
      ]
    },
    {
      "cell_type": "code",
      "execution_count": 148,
      "metadata": {
        "colab": {
          "base_uri": "https://localhost:8080/",
          "height": 1000
        },
        "id": "h3SRCOeWt6Fu",
        "outputId": "64fe634f-a14f-408b-b7ca-197a9aa4dc30"
      },
      "outputs": [
        {
          "name": "stderr",
          "output_type": "stream",
          "text": [
            "100%|██████████| 23/23 [00:00<00:00, 77.53it/s]\n"
          ]
        },
        {
          "name": "stdout",
          "output_type": "stream",
          "text": [
            "Epoch 0: train loss = 0.719 (acc: 0.506), validation loss = 0.730 (acc: 0.468)\n"
          ]
        },
        {
          "name": "stderr",
          "output_type": "stream",
          "text": [
            "100%|██████████| 23/23 [00:00<00:00, 77.33it/s]\n"
          ]
        },
        {
          "name": "stdout",
          "output_type": "stream",
          "text": [
            "Epoch 1: train loss = 0.701 (acc: 0.505), validation loss = 0.701 (acc: 0.482)\n"
          ]
        },
        {
          "name": "stderr",
          "output_type": "stream",
          "text": [
            "100%|██████████| 23/23 [00:00<00:00, 80.52it/s]\n"
          ]
        },
        {
          "name": "stdout",
          "output_type": "stream",
          "text": [
            "Epoch 2: train loss = 0.698 (acc: 0.495), validation loss = 0.697 (acc: 0.527)\n"
          ]
        },
        {
          "name": "stderr",
          "output_type": "stream",
          "text": [
            "100%|██████████| 23/23 [00:00<00:00, 82.52it/s]\n"
          ]
        },
        {
          "name": "stdout",
          "output_type": "stream",
          "text": [
            "Epoch 3: train loss = 0.702 (acc: 0.505), validation loss = 0.707 (acc: 0.477)\n"
          ]
        },
        {
          "name": "stderr",
          "output_type": "stream",
          "text": [
            "100%|██████████| 23/23 [00:00<00:00, 79.39it/s]\n"
          ]
        },
        {
          "name": "stdout",
          "output_type": "stream",
          "text": [
            "Epoch 4: train loss = 0.699 (acc: 0.489), validation loss = 0.695 (acc: 0.522)\n"
          ]
        },
        {
          "name": "stderr",
          "output_type": "stream",
          "text": [
            "100%|██████████| 23/23 [00:00<00:00, 80.61it/s]\n"
          ]
        },
        {
          "name": "stdout",
          "output_type": "stream",
          "text": [
            "Epoch 5: train loss = 0.696 (acc: 0.507), validation loss = 0.697 (acc: 0.475)\n"
          ]
        },
        {
          "name": "stderr",
          "output_type": "stream",
          "text": [
            "100%|██████████| 23/23 [00:00<00:00, 79.03it/s]\n"
          ]
        },
        {
          "name": "stdout",
          "output_type": "stream",
          "text": [
            "Epoch 6: train loss = 0.696 (acc: 0.507), validation loss = 0.698 (acc: 0.475)\n"
          ]
        },
        {
          "name": "stderr",
          "output_type": "stream",
          "text": [
            "100%|██████████| 23/23 [00:00<00:00, 76.34it/s]\n"
          ]
        },
        {
          "name": "stdout",
          "output_type": "stream",
          "text": [
            "Epoch 7: train loss = 0.698 (acc: 0.493), validation loss = 0.694 (acc: 0.525)\n"
          ]
        },
        {
          "name": "stderr",
          "output_type": "stream",
          "text": [
            "100%|██████████| 23/23 [00:00<00:00, 77.50it/s]\n"
          ]
        },
        {
          "name": "stdout",
          "output_type": "stream",
          "text": [
            "Epoch 8: train loss = 0.700 (acc: 0.504), validation loss = 0.706 (acc: 0.477)\n"
          ]
        },
        {
          "name": "stderr",
          "output_type": "stream",
          "text": [
            "100%|██████████| 23/23 [00:00<00:00, 80.03it/s]\n"
          ]
        },
        {
          "name": "stdout",
          "output_type": "stream",
          "text": [
            "Epoch 9: train loss = 0.699 (acc: 0.505), validation loss = 0.702 (acc: 0.486)\n"
          ]
        },
        {
          "name": "stderr",
          "output_type": "stream",
          "text": [
            "100%|██████████| 23/23 [00:00<00:00, 74.64it/s]\n"
          ]
        },
        {
          "name": "stdout",
          "output_type": "stream",
          "text": [
            "Epoch 10: train loss = 0.698 (acc: 0.495), validation loss = 0.693 (acc: 0.527)\n"
          ]
        },
        {
          "name": "stderr",
          "output_type": "stream",
          "text": [
            "100%|██████████| 23/23 [00:00<00:00, 79.94it/s]\n"
          ]
        },
        {
          "name": "stdout",
          "output_type": "stream",
          "text": [
            "Epoch 11: train loss = 0.702 (acc: 0.497), validation loss = 0.695 (acc: 0.526)\n"
          ]
        },
        {
          "name": "stderr",
          "output_type": "stream",
          "text": [
            "100%|██████████| 23/23 [00:00<00:00, 78.94it/s]\n"
          ]
        },
        {
          "name": "stdout",
          "output_type": "stream",
          "text": [
            "Epoch 12: train loss = 0.714 (acc: 0.493), validation loss = 0.701 (acc: 0.530)\n"
          ]
        },
        {
          "name": "stderr",
          "output_type": "stream",
          "text": [
            "100%|██████████| 23/23 [00:00<00:00, 77.44it/s]\n"
          ]
        },
        {
          "name": "stdout",
          "output_type": "stream",
          "text": [
            "Epoch 13: train loss = 0.695 (acc: 0.505), validation loss = 0.698 (acc: 0.473)\n"
          ]
        },
        {
          "name": "stderr",
          "output_type": "stream",
          "text": [
            "100%|██████████| 23/23 [00:00<00:00, 73.66it/s]\n"
          ]
        },
        {
          "name": "stdout",
          "output_type": "stream",
          "text": [
            "Epoch 14: train loss = 0.699 (acc: 0.504), validation loss = 0.706 (acc: 0.473)\n"
          ]
        },
        {
          "name": "stderr",
          "output_type": "stream",
          "text": [
            "100%|██████████| 23/23 [00:00<00:00, 80.48it/s]\n"
          ]
        },
        {
          "name": "stdout",
          "output_type": "stream",
          "text": [
            "Epoch 15: train loss = 0.694 (acc: 0.494), validation loss = 0.692 (acc: 0.522)\n"
          ]
        },
        {
          "name": "stderr",
          "output_type": "stream",
          "text": [
            "100%|██████████| 23/23 [00:00<00:00, 81.40it/s]\n"
          ]
        },
        {
          "name": "stdout",
          "output_type": "stream",
          "text": [
            "Epoch 16: train loss = 0.695 (acc: 0.494), validation loss = 0.693 (acc: 0.522)\n"
          ]
        },
        {
          "name": "stderr",
          "output_type": "stream",
          "text": [
            "100%|██████████| 23/23 [00:00<00:00, 77.98it/s]\n"
          ]
        },
        {
          "name": "stdout",
          "output_type": "stream",
          "text": [
            "Epoch 17: train loss = 0.693 (acc: 0.502), validation loss = 0.698 (acc: 0.483)\n"
          ]
        },
        {
          "name": "stderr",
          "output_type": "stream",
          "text": [
            "100%|██████████| 23/23 [00:00<00:00, 80.25it/s]\n"
          ]
        },
        {
          "name": "stdout",
          "output_type": "stream",
          "text": [
            "Epoch 18: train loss = 0.661 (acc: 0.614), validation loss = 0.681 (acc: 0.575)\n"
          ]
        },
        {
          "name": "stderr",
          "output_type": "stream",
          "text": [
            "100%|██████████| 23/23 [00:00<00:00, 77.94it/s]\n"
          ]
        },
        {
          "name": "stdout",
          "output_type": "stream",
          "text": [
            "Epoch 19: train loss = 0.683 (acc: 0.583), validation loss = 0.712 (acc: 0.532)\n"
          ]
        },
        {
          "name": "stderr",
          "output_type": "stream",
          "text": [
            "100%|██████████| 23/23 [00:00<00:00, 79.46it/s]\n"
          ]
        },
        {
          "name": "stdout",
          "output_type": "stream",
          "text": [
            "Epoch 20: train loss = 0.653 (acc: 0.630), validation loss = 0.705 (acc: 0.560)\n"
          ]
        },
        {
          "name": "stderr",
          "output_type": "stream",
          "text": [
            "100%|██████████| 23/23 [00:00<00:00, 66.11it/s]\n"
          ]
        },
        {
          "name": "stdout",
          "output_type": "stream",
          "text": [
            "Epoch 21: train loss = 0.631 (acc: 0.667), validation loss = 0.700 (acc: 0.568)\n"
          ]
        },
        {
          "name": "stderr",
          "output_type": "stream",
          "text": [
            "100%|██████████| 23/23 [00:00<00:00, 57.13it/s]\n"
          ]
        },
        {
          "name": "stdout",
          "output_type": "stream",
          "text": [
            "Epoch 22: train loss = 0.620 (acc: 0.684), validation loss = 0.718 (acc: 0.562)\n"
          ]
        },
        {
          "name": "stderr",
          "output_type": "stream",
          "text": [
            "100%|██████████| 23/23 [00:00<00:00, 53.09it/s]\n"
          ]
        },
        {
          "name": "stdout",
          "output_type": "stream",
          "text": [
            "Epoch 23: train loss = 0.574 (acc: 0.724), validation loss = 0.731 (acc: 0.572)\n"
          ]
        },
        {
          "name": "stderr",
          "output_type": "stream",
          "text": [
            "100%|██████████| 23/23 [00:00<00:00, 57.01it/s]\n"
          ]
        },
        {
          "name": "stdout",
          "output_type": "stream",
          "text": [
            "Epoch 24: train loss = 0.555 (acc: 0.748), validation loss = 0.734 (acc: 0.569)\n"
          ]
        },
        {
          "data": {
            "image/png": "[encoded data removed]",
            "text/plain": [
              "<Figure size 1200x500 with 2 Axes>"
            ]
          },
          "metadata": {},
          "output_type": "display_data"
        }
      ],
      "source": [
        "model_lstm_irony = LSTMModel(embedding_dim, hidden_dim,  output_dim,num_layers)\n",
        "criterion_irony = nn.CrossEntropyLoss()\n",
        "optimizer_irony = optim.Adam(model_lstm_irony.parameters(), lr=0.01)\n",
        "make_plot(*fit(model_lstm_irony,optimizer_irony, criterion_irony, train_loader_irony, val_loader_irony, num_epochs))"
      ]
    },
    {
      "cell_type": "code",
      "execution_count": 153,
      "metadata": {
        "id": "EOcY4qe0520M"
      },
      "outputs": [],
      "source": [
        "embedding_dim = 100\n",
        "hidden_dim = 32\n",
        "num_layers = 2\n",
        "output_dim = 2\n",
        "num_epochs = 50"
      ]
    },
    {
      "cell_type": "code",
      "execution_count": 154,
      "metadata": {
        "colab": {
          "base_uri": "https://localhost:8080/",
          "height": 943
        },
        "id": "J2gFhJy5oqp8",
        "outputId": "6984a6ef-ef81-414e-c9d9-7bc641b28d18"
      },
      "outputs": [
        {
          "name": "stderr",
          "output_type": "stream",
          "text": [
            "100%|██████████| 94/94 [00:01<00:00, 75.29it/s]\n"
          ]
        },
        {
          "name": "stdout",
          "output_type": "stream",
          "text": [
            "Epoch 0: train loss = 0.661 (acc: 0.668), validation loss = 0.676 (acc: 0.655)\n"
          ]
        },
        {
          "name": "stderr",
          "output_type": "stream",
          "text": [
            "100%|██████████| 94/94 [00:03<00:00, 25.77it/s]\n"
          ]
        },
        {
          "name": "stdout",
          "output_type": "stream",
          "text": [
            "Epoch 1: train loss = 0.642 (acc: 0.667), validation loss = 0.661 (acc: 0.648)\n"
          ]
        },
        {
          "name": "stderr",
          "output_type": "stream",
          "text": [
            "100%|██████████| 94/94 [00:01<00:00, 48.97it/s]\n"
          ]
        },
        {
          "name": "stdout",
          "output_type": "stream",
          "text": [
            "Epoch 2: train loss = 0.633 (acc: 0.668), validation loss = 0.640 (acc: 0.663)\n"
          ]
        },
        {
          "name": "stderr",
          "output_type": "stream",
          "text": [
            "100%|██████████| 94/94 [00:01<00:00, 74.99it/s]\n"
          ]
        },
        {
          "name": "stdout",
          "output_type": "stream",
          "text": [
            "Epoch 3: train loss = 0.606 (acc: 0.681), validation loss = 0.623 (acc: 0.651)\n"
          ]
        },
        {
          "name": "stderr",
          "output_type": "stream",
          "text": [
            "100%|██████████| 94/94 [00:01<00:00, 77.73it/s]\n"
          ]
        },
        {
          "name": "stdout",
          "output_type": "stream",
          "text": [
            "Epoch 4: train loss = 0.577 (acc: 0.709), validation loss = 0.622 (acc: 0.665)\n"
          ]
        },
        {
          "name": "stderr",
          "output_type": "stream",
          "text": [
            "100%|██████████| 94/94 [00:01<00:00, 76.68it/s]\n"
          ]
        },
        {
          "name": "stdout",
          "output_type": "stream",
          "text": [
            "Epoch 5: train loss = 0.556 (acc: 0.721), validation loss = 0.617 (acc: 0.671)\n"
          ]
        },
        {
          "name": "stderr",
          "output_type": "stream",
          "text": [
            "100%|██████████| 94/94 [00:01<00:00, 77.38it/s]\n"
          ]
        },
        {
          "name": "stdout",
          "output_type": "stream",
          "text": [
            "Epoch 6: train loss = 0.529 (acc: 0.754), validation loss = 0.629 (acc: 0.646)\n"
          ]
        },
        {
          "name": "stderr",
          "output_type": "stream",
          "text": [
            "100%|██████████| 94/94 [00:01<00:00, 76.04it/s]\n"
          ]
        },
        {
          "name": "stdout",
          "output_type": "stream",
          "text": [
            "Epoch 7: train loss = 0.480 (acc: 0.787), validation loss = 0.655 (acc: 0.645)\n"
          ]
        },
        {
          "name": "stderr",
          "output_type": "stream",
          "text": [
            "100%|██████████| 94/94 [00:01<00:00, 58.61it/s]\n"
          ]
        },
        {
          "name": "stdout",
          "output_type": "stream",
          "text": [
            "Epoch 8: train loss = 0.484 (acc: 0.794), validation loss = 0.679 (acc: 0.629)\n"
          ]
        },
        {
          "name": "stderr",
          "output_type": "stream",
          "text": [
            "100%|██████████| 94/94 [00:01<00:00, 54.04it/s]\n"
          ]
        },
        {
          "name": "stdout",
          "output_type": "stream",
          "text": [
            "Epoch 9: train loss = 0.413 (acc: 0.830), validation loss = 0.697 (acc: 0.651)\n"
          ]
        },
        {
          "name": "stderr",
          "output_type": "stream",
          "text": [
            "100%|██████████| 94/94 [00:01<00:00, 53.63it/s]\n"
          ]
        },
        {
          "name": "stdout",
          "output_type": "stream",
          "text": [
            "Epoch 10: train loss = 0.372 (acc: 0.851), validation loss = 0.744 (acc: 0.654)\n"
          ]
        },
        {
          "name": "stderr",
          "output_type": "stream",
          "text": [
            "100%|██████████| 94/94 [00:01<00:00, 77.79it/s]\n"
          ]
        },
        {
          "name": "stdout",
          "output_type": "stream",
          "text": [
            "Epoch 11: train loss = 0.350 (acc: 0.865), validation loss = 0.796 (acc: 0.630)\n"
          ]
        },
        {
          "data": {
            "image/png": "[encoded data removed]",
            "text/plain": [
              "<Figure size 1200x500 with 2 Axes>"
            ]
          },
          "metadata": {},
          "output_type": "display_data"
        }
      ],
      "source": [
        "model_lstm_off = LSTMModel(embedding_dim, hidden_dim,  output_dim,num_layers)\n",
        "criterion_off = nn.CrossEntropyLoss()\n",
        "optimizer_off = optim.Adam(model_lstm_off.parameters(), lr=0.01)\n",
        "make_plot(*fit(model_lstm_off,optimizer_off, criterion_off, train_loader_off, val_loader_off, num_epochs))"
      ]
    },
    {
      "cell_type": "markdown",
      "metadata": {
        "id": "bvy1SbHQ-lFs"
      },
      "source": [
        "## Trenowanie modeli LR (fastText) dla ZJAWISKO_1 i ZJAWISKO_2 (2 pkt.)"
      ]
    },
    {
      "cell_type": "code",
      "execution_count": null,
      "metadata": {
        "id": "oWcqtQl69Ub9"
      },
      "outputs": [],
      "source": [
        "!python fastText/python/doc/examples/bin_to_vec.py \"drive/My Drive/GSN/fasttext_tweetmodel_btc_sg_100_en.bin\" > \"drive/My Drive/tweeteval/fasttext_tweetmodel_btc_sg_100_en.vec\""
      ]
    },
    {
      "cell_type": "code",
      "execution_count": 163,
      "metadata": {
        "colab": {
          "base_uri": "https://localhost:8080/"
        },
        "id": "2-JdYHSWby3l",
        "outputId": "11d7494a-c113-46c2-fcad-9bc018a05e03"
      },
      "outputs": [
        {
          "name": "stdout",
          "output_type": "stream",
          "text": [
            "Warning : dim is manually set to a specific value. It will not be automatically optimized.\n",
            "Progress: 100.0% Trials:    5 Best score:  0.641885 ETA:   0h 0m 0s\n",
            "Training again with best arguments\n",
            "Read 0M words\n",
            "Number of words:  12561\n",
            "Number of labels: 2\n",
            "Progress: 100.0% words/sec/thread:  275182 lr:  0.000000 avg.loss:  0.059509 ETA:   0h 0m 0s\n"
          ]
        }
      ],
      "source": [
        "!sed 's/^/__label__/g' 'drive/My Drive/tweeteval/datasets/irony/train_labels.txt' > 'drive/My Drive/irony_folder/data/train_labels_irony.txt'\n",
        "!sed 's/^/__label__/g' 'drive/My Drive/tweeteval/datasets/irony/test_labels.txt' > 'drive/My Drive/irony_folder/data/test_labels_irony.txt'\n",
        "!sed 's/^/__label__/g' 'drive/My Drive/tweeteval/datasets/irony/val_labels.txt' > 'drive/My Drive/irony_folder/data/val_labels_irony.txt'\n",
        "\n",
        "!paste -d \" \" 'drive/My Drive/tweeteval/datasets/irony/train_text.txt' 'drive/My Drive/irony_folder/data/train_labels_irony.txt' > 'drive/My Drive/irony_folder/data/train_irony.txt'\n",
        "!paste -d \" \" 'drive/My Drive/tweeteval/datasets/irony/test_text.txt' 'drive/My Drive/irony_folder/data/test_labels_irony.txt' > 'drive/My Drive/irony_folder/data/test_irony.txt'\n",
        "!paste -d \" \" 'drive/My Drive/tweeteval/datasets/irony/val_text.txt' 'drive/My Drive/irony_folder/data/val_labels_irony.txt' > 'drive/My Drive/irony_folder/data/val_irony.txt'\n",
        "\n",
        "!fasttext supervised -input 'drive/My Drive/irony_folder/data/train_irony.txt' -output 'drive/My Drive/irony_folder/irony_model' -dim 100 -pretrainedVectors \"drive/My Drive/tweeteval/fasttext_tweetmodel_btc_sg_100_en.vec\" -autotune-validation 'drive/My Drive/irony_folder/data/val_irony.txt'"
      ]
    },
    {
      "cell_type": "code",
      "execution_count": 164,
      "metadata": {
        "colab": {
          "base_uri": "https://localhost:8080/"
        },
        "id": "INlFXjP7_aNy",
        "outputId": "611118fa-afc2-4fbf-b914-4eb832f182c6"
      },
      "outputs": [
        {
          "name": "stdout",
          "output_type": "stream",
          "text": [
            "Warning : dim is manually set to a specific value. It will not be automatically optimized.\n",
            "Progress: 100.0% Trials:    5 Best score:  0.742447 ETA:   0h 0m 0s\n",
            "Training again with best arguments\n",
            "Read 0M words\n",
            "Number of words:  36464\n",
            "Number of labels: 2\n",
            "Progress: 100.0% words/sec/thread:   54191 lr:  0.000000 avg.loss:  0.322423 ETA:   0h 0m 0s\n"
          ]
        }
      ],
      "source": [
        "!sed 's/^/__label__/g' 'drive/My Drive/tweeteval/datasets/offensive/train_labels.txt' > 'drive/My Drive/offensive_folder/data/train_labels_offensive.txt'\n",
        "!sed 's/^/__label__/g' 'drive/My Drive/tweeteval/datasets/offensive/test_labels.txt' > 'drive/My Drive/offensive_folder/data/test_labels_offensive.txt'\n",
        "!sed 's/^/__label__/g' 'drive/My Drive/tweeteval/datasets/offensive/val_labels.txt' > 'drive/My Drive/offensive_folder/data/val_labels_offensive.txt'\n",
        "\n",
        "!paste -d \" \" 'drive/My Drive/tweeteval/datasets/offensive/train_text.txt' 'drive/My Drive/offensive_folder/data/train_labels_offensive.txt' > 'drive/My Drive/offensive_folder/data/train_offensive.txt'\n",
        "!paste -d \" \" 'drive/My Drive/tweeteval/datasets/offensive/test_text.txt' 'drive/My Drive/offensive_folder/data/test_labels_offensive.txt' > 'drive/My Drive/offensive_folder/data/test_offensive.txt'\n",
        "!paste -d \" \" 'drive/My Drive/tweeteval/datasets/offensive/val_text.txt' 'drive/My Drive/offensive_folder/data/val_labels_offensive.txt' > 'drive/My Drive/offensive_folder/data/val_offensive.txt'\n",
        "\n",
        "!fasttext supervised -input 'drive/My Drive/offensive_folder/data/train_offensive.txt' -output 'drive/My Drive/offensive_folder/offensive_model' -dim 100 -pretrainedVectors \"drive/My Drive/tweeteval/fasttext_tweetmodel_btc_sg_100_en.vec\" -autotune-validation 'drive/My Drive/offensive_folder/data/val_offensive.txt'"
      ]
    },
    {
      "cell_type": "markdown",
      "metadata": {
        "id": "8neBnDzU-4o9"
      },
      "source": [
        "## Ewaluacja modeli na danych testowych dla zjawiska ZJAWISKO_1 (2 pkt.)"
      ]
    },
    {
      "cell_type": "code",
      "execution_count": 165,
      "metadata": {
        "id": "7wkbdG93_FxE"
      },
      "outputs": [],
      "source": [
        "model_path = '/content/drive/My Drive/tweeteval'\n",
        "torch.save(model_lstm_irony.state_dict(), model_path + '/model_lstm_irony.pth')\n",
        "torch.save(model_lstm_off.state_dict(),  model_path + '/model_lstm_off.pth')"
      ]
    },
    {
      "cell_type": "code",
      "execution_count": 172,
      "metadata": {
        "colab": {
          "base_uri": "https://localhost:8080/"
        },
        "id": "0cMqYz6QrhZ0",
        "outputId": "0211abe6-bcde-4123-9ffb-3c3410c12aeb"
      },
      "outputs": [
        {
          "name": "stdout",
          "output_type": "stream",
          "text": [
            "mkdir: cannot create directory ‘drive/My Drive/tweeteval/predictions_fasttext_irony’: File exists\n"
          ]
        }
      ],
      "source": [
        "!mkdir \"drive/My Drive/tweeteval/predictions_fasttext_irony\""
      ]
    },
    {
      "cell_type": "code",
      "execution_count": 173,
      "metadata": {
        "colab": {
          "base_uri": "https://localhost:8080/"
        },
        "id": "3Z8VzKcMqscF",
        "outputId": "799c002e-f86f-4d62-a3a0-48e23b6fec46"
      },
      "outputs": [
        {
          "name": "stdout",
          "output_type": "stream",
          "text": [
            "0 {'precision': 0.7673860911270983, 'recall': 0.6765327695560254, 'f1-score': 0.7191011235955056, 'support': 473}\n",
            "1 {'precision': 0.5831062670299727, 'recall': 0.6881028938906752, 'f1-score': 0.631268436578171, 'support': 311}\n",
            "accuracy 0.6811224489795918\n",
            "macro avg {'precision': 0.6752461790785356, 'recall': 0.6823178317233503, 'f1-score': 0.6751847800868382, 'support': 784}\n",
            "weighted avg {'precision': 0.694285293557958, 'recall': 0.6811224489795918, 'f1-score': 0.6842593306587822, 'support': 784}\n",
            "------------------------------\n",
            "TweetEval Score (irony): 0.631268436578171\n"
          ]
        }
      ],
      "source": [
        "!fasttext predict \"drive/My Drive/irony_folder/irony_model.bin\" \"drive/My Drive/tweeteval/datasets/irony/test_text.txt\" | sed 's/__label__//g' > \"drive/My Drive/tweeteval/predictions_fasttext_irony/irony.txt\"\n",
        "!python \"drive/My Drive/tweeteval/evaluation_script.py\" --tweeteval_path \"drive/My Drive/tweeteval/datasets\" --predictions_path \"drive/My Drive/tweeteval/predictions_fasttext_irony\" --task irony"
      ]
    },
    {
      "cell_type": "markdown",
      "metadata": {
        "id": "qIHyGqMM_HaE"
      },
      "source": [
        "## Ewaluacja modeli na danych testowych dla zjawiska ZJAWISKO_2 (2 pkt.)"
      ]
    },
    {
      "cell_type": "code",
      "execution_count": 174,
      "metadata": {
        "id": "98fXcY7e1vWc"
      },
      "outputs": [],
      "source": [
        "!mkdir \"drive/My Drive/tweeteval/predictions_fasttext_offensive\""
      ]
    },
    {
      "cell_type": "code",
      "execution_count": 179,
      "metadata": {
        "id": "J-WV6BEs9o6g"
      },
      "outputs": [],
      "source": [
        "!fasttext predict \"drive/My Drive/offensive_folder/offensive_model.bin\" \"drive/My Drive/tweeteval/datasets/offensive/test_text.txt\" | sed 's/__label__//g' > \"drive/My Drive/tweeteval/predictions_fasttext_offensive/offensive.txt\""
      ]
    },
    {
      "cell_type": "code",
      "execution_count": 180,
      "metadata": {
        "colab": {
          "base_uri": "https://localhost:8080/"
        },
        "id": "MQ8yTGuu_Ird",
        "outputId": "d10e052b-2b86-4cdc-8365-c1d3db23e003"
      },
      "outputs": [
        {
          "name": "stdout",
          "output_type": "stream",
          "text": [
            "0 {'precision': 0.8013605442176871, 'recall': 0.95, 'f1-score': 0.8693726937269373, 'support': 620}\n",
            "1 {'precision': 0.752, 'recall': 0.39166666666666666, 'f1-score': 0.5150684931506849, 'support': 240}\n",
            "accuracy 0.7941860465116279\n",
            "macro avg {'precision': 0.7766802721088435, 'recall': 0.6708333333333333, 'f1-score': 0.692220593438811, 'support': 860}\n",
            "weighted avg {'precision': 0.7875855086220536, 'recall': 0.7941860465116279, 'f1-score': 0.7704971028684483, 'support': 860}\n",
            "------------------------------\n",
            "TweetEval Score (offensive): 0.692220593438811\n"
          ]
        }
      ],
      "source": [
        "!python \"drive/My Drive/tweeteval/evaluation_script.py\" --tweeteval_path \"drive/My Drive/tweeteval/datasets\" --predictions_path \"drive/My Drive/tweeteval/predictions_fasttext_offensive\" --task offensive"
      ]
    }
  ],
  "metadata": {
    "colab": {
      "provenance": []
    },
    "kernelspec": {
      "display_name": "Python 3",
      "name": "python3"
    },
    "language_info": {
      "name": "python",
      "version": "3.10.14"
    }
  },
  "nbformat": 4,
  "nbformat_minor": 0
}
