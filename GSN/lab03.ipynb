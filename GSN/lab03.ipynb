{
  "cells": [
    {
      "cell_type": "markdown",
      "metadata": {
        "id": "l1koAEgYAJr-"
      },
      "source": [
        "# Wstęp\n",
        "\n",
        "Na poprzednich zajęciach nauczyłeś(aś) się jak skonstruować od zera podstawową komórkę sieci neuronowej - Perceptron. Na tych zajęciach przejdziemy już do wykorzystywania bardziej zaawansowanych funkcji PyTorcha, które przydają się na codzień do konstruowania sieci neuronowych.\n",
        "\n",
        "## Cel ćwiczenia\n",
        "\n",
        "Celem ćwiczenia jest zapoznanie z podstawowymi funkcjami biblioteki PyTorch do tworzenia i uczenia sieci neuronowych a w szczególności z:\n",
        "*   Automatycznym liczeniem gradientów i grafem obliczeniowym (autograd)\n",
        "*   Algorytmami off-line, on-line a także pojęciem mini-batch\n",
        "*   Algorytmami optymalizacji sieci neuronowych\n",
        "*   Liczeniem wartości fuknkcji straty\n",
        "*   Przekształceniami nieliniowymi\n",
        "*   Modułem `torch.nn`\n",
        "\n",
        "## Warunki zaliczenia\n",
        "\n",
        "W celu zaliczenia ćwiczeń należy uzupełnić wszystkie brakujące elementu kodu, wykonać wszystkie polecenia i wyuczyć model.\n"
      ]
    },
    {
      "cell_type": "code",
      "execution_count": 1,
      "metadata": {
        "id": "kUJ1zQQXs7ip"
      },
      "outputs": [],
      "source": [
        "import math\n",
        "import warnings\n",
        "from typing import Tuple\n",
        "\n",
        "import torch\n",
        "import torch.nn.functional as F\n",
        "from sklearn.model_selection import train_test_split\n",
        "from sklearn.datasets import load_iris\n",
        "from torch import nn\n",
        "from torch import optim\n",
        "from torch.utils.data import TensorDataset, DataLoader\n",
        "\n",
        "assert torch.cuda.is_available(), \"Uruchom środowisko wykonawcze na GPU\""
      ]
    },
    {
      "cell_type": "markdown",
      "metadata": {
        "id": "er1hgYZsm5-6"
      },
      "source": [
        "# Autograd - automatyczne liczenie gradientów\n",
        "\n",
        "Na poprzednich laboratoriach implementowałeś(aś) funkcję wstecznej propagacji. W tym celu liczyłaś(eś) pochodne (gradienty). Przyjrzyjmy się najpierw funkcji\n",
        "$$f(x, y) = 3x^2 + y^3$$\n",
        "Możemy tę funkcję różniczkować po dwóch zmiennych: $x$ i $y$:\n",
        "$$\\frac{\\partial f}{\\partial x} = 6x$$\n",
        "\n",
        "$$\\frac{\\partial f}{\\partial y} = 3y^2$$\n",
        "\n",
        "Jeżeli funkcję $f(x,y)$ złożymy z funkcją $g(x) = x^2$ tworząc funkcję $h(x, y) = f(g(x), y)$ to z **reguły łańcuchowej** pochodna takiej funkcji wyniesie:\n",
        "\n",
        "$$\\frac{\\partial h}{\\partial x} = \\frac{\\partial f}{\\partial g} \\frac{\\partial g}{\\partial x} = (6 (x^2)) (2 x) = 12 x^3$$\n",
        "\n",
        "Tego typu obliczenia przy wielu warstwach sieci (a więc przy wielu złożeniach funkcji liniowych i nieliniowych) stają się mocno skomplikowane. Na szczęście PyToch dostarcza `torch.autograd` - silnik do zaumatyzowanego liczenia gradientów. Jak on działa? Najpierw zdefiniujmy wektory $\\mathbf x$ i $\\mathbf y$."
      ]
    },
    {
      "cell_type": "code",
      "execution_count": 2,
      "metadata": {
        "id": "SRkbe7sPm5dL"
      },
      "outputs": [],
      "source": [
        "x = torch.tensor([0., 1., 5.], requires_grad=True)\n",
        "y = torch.tensor([8., 2., 4.], requires_grad=True)"
      ]
    },
    {
      "cell_type": "markdown",
      "metadata": {
        "id": "Z6L2Lx63vTOn"
      },
      "source": [
        "Zauważ, że tworząc tensor przekazaliśmy parametr `requires_grad=True`. Sprawia on, że wszystkie operacje dokonane na tym tensorze są śledzone i tensor wynikowy będzie \"pamiętał\" przy użyciu jakiej operacji powstał. Policzmy naszą funkcję $f( \\mathbf x, \\mathbf y)$ dla tych tensorów."
      ]
    },
    {
      "cell_type": "code",
      "execution_count": 3,
      "metadata": {
        "id": "_FE9yAWMvR4Q"
      },
      "outputs": [
        {
          "data": {
            "text/plain": [
              "tensor([512.,  11., 139.], grad_fn=<AddBackward0>)"
            ]
          },
          "execution_count": 3,
          "metadata": {},
          "output_type": "execute_result"
        }
      ],
      "source": [
        "z = 3*x**2 + y**3\n",
        "z"
      ]
    },
    {
      "cell_type": "markdown",
      "metadata": {
        "id": "C4aNNpt8xqpk"
      },
      "source": [
        "Jak widać uzyskany tensor ma także zapisany parametr `grad_fn=<AddBackward0>`, czyli że powstał z dodania dwóch tensorów - dodawanie jest ostatnią operacją, która zostałą wykonana, żeby otrzymać ten tensor. Dokonajmy propagacji wstecznej w celu policzenia gradientów.\n"
      ]
    },
    {
      "cell_type": "code",
      "execution_count": 4,
      "metadata": {
        "id": "b1_vOt2yxqHb"
      },
      "outputs": [
        {
          "name": "stdout",
          "output_type": "stream",
          "text": [
            "tensor([True, True, True])\n",
            "tensor([True, True, True])\n"
          ]
        }
      ],
      "source": [
        "grad_tensors = torch.tensor([1., 1., 1.])\n",
        "z.backward(grad_tensors)\n",
        "print(x.grad == 6*x)\n",
        "print(y.grad == 3*y**2)"
      ]
    },
    {
      "cell_type": "markdown",
      "metadata": {
        "id": "kqqmScaJQoZ3"
      },
      "source": [
        "Na razie nie przejmuj się tym za co odpowiada `grad_tensors`. Policzmy wartość funkcji $h$.\n",
        "\n"
      ]
    },
    {
      "cell_type": "code",
      "execution_count": 5,
      "metadata": {
        "id": "8OtdWj0Y7XGa"
      },
      "outputs": [
        {
          "name": "stdout",
          "output_type": "stream",
          "text": [
            "tensor([   0.,   18., 1530.])\n",
            "tensor([   0.,   12., 1500.], grad_fn=<MulBackward0>)\n",
            "tensor([ True, False, False])\n"
          ]
        }
      ],
      "source": [
        "a = 3*(x**2)**2 + y**3\n",
        "a.backward(grad_tensors)\n",
        "print(x.grad)\n",
        "print(12*(x**3))\n",
        "print(x.grad == 12*(x**3))"
      ]
    },
    {
      "cell_type": "markdown",
      "metadata": {
        "id": "tgIDyhN4RanY"
      },
      "source": [
        "Nie zgadzają nam się wartości. Wynika to z kolejnej właśności pytorchowego autograda - gradienty w tensorach są **akumulowane**. Jak wykonasz powyższą komórkę wielekrotnie to zobaczysz że wartości `x.grad` rosną dokładnie o $12x_i^3$ po każdym wykonaniu. Akumulacja gradientów jest przydatna w niektórych architekturach sieci neuronowych. Dlatego też trzeba *explicite* wyzerować gradienty."
      ]
    },
    {
      "cell_type": "code",
      "execution_count": 6,
      "metadata": {
        "id": "83kl2IWHO491"
      },
      "outputs": [
        {
          "name": "stdout",
          "output_type": "stream",
          "text": [
            "tensor([   0.,   12., 1500.])\n",
            "tensor([   0.,   12., 1500.], grad_fn=<MulBackward0>)\n"
          ]
        }
      ],
      "source": [
        "x.grad.data.zero_()\n",
        "a = 3*(x**2)**2 + y**3\n",
        "a.backward(grad_tensors)\n",
        "print(x.grad)\n",
        "print(12*(x**3))\n",
        "assert (x.grad == 12*(x**3)).all()"
      ]
    },
    {
      "cell_type": "markdown",
      "metadata": {
        "id": "nZ4DG0kmaTzl"
      },
      "source": [
        "Ok, powróćmy teraz do `grad_tensors` - co to jest? Otóż autograd jest silnikiem, który służy do wyliczania **macierzy Jacobiego**, tj. pochodnych pierwszego rzędu funkcji, których składowymi są funkcje rzeczywiste.\n",
        "\n",
        "$$f = (f_1, f_2, \\ldots, f_m)$$\n",
        "$$\\mathbf x = (x_1, x_2, \\ldots, x_n)$$\n",
        "\n",
        "$$\\mathbf J = \\begin{bmatrix}\n",
        " \\dfrac{\\partial f_1}{\\partial x_1} & \\cdots & \\dfrac{\\partial f_1}{\\partial x_n} \\\\\n",
        " \\vdots & \\ddots & \\vdots \\\\\n",
        " \\dfrac{\\partial f_m}{\\partial x_1} & \\cdots & \\dfrac{\\partial f_m}{\\partial x_n}\n",
        "\\end{bmatrix}$$\n",
        "\n",
        "Konkretnie patrząc na przykład z tensorem $a$ macierz Jacobiego wygląda tak:\n",
        "$$\\mathbf J_a = \\begin{bmatrix}\n",
        " \\dfrac{\\partial a_1}{\\partial x_1} & \\dfrac{\\partial a_1}{\\partial x_2} & \\dfrac{\\partial a_1}{\\partial x_3} \\\\\n",
        "  \\dfrac{\\partial a_2}{\\partial x_1} & \\dfrac{\\partial a_2}{\\partial x_2} & \\dfrac{\\partial a_2}{\\partial x_3} \\\\\n",
        "   \\dfrac{\\partial a_3}{\\partial x_1} & \\dfrac{\\partial a_3}{\\partial x_2} & \\dfrac{\\partial a_3}{\\partial x_3} \\\\\n",
        "\\end{bmatrix}$$\n",
        "\n",
        "Następnie `grad_tensors` ($\\mathbf z$) mnożymy przez transpozycję tej macierzy (ang. *Jacobian-vector product*).\n",
        "\n",
        "$$\\mathbf z \\mathbf{J}_a^T = \\begin{bmatrix} 1 & 1 & 1 \\end{bmatrix}\n",
        "\n",
        "\\begin{bmatrix}\n",
        " \\dfrac{\\partial a_1}{\\partial x_1} & \\dfrac{\\partial a_2}{\\partial x_1} & \\dfrac{\\partial a_3}{\\partial x_1} \\\\\n",
        "  \\dfrac{\\partial a_1}{\\partial x_2} & \\dfrac{\\partial a_2}{\\partial x_2} & \\dfrac{\\partial a_3}{\\partial x_2} \\\\\n",
        "   \\dfrac{\\partial a_1}{\\partial x_3} & \\dfrac{\\partial a_2}{\\partial x_3} & \\dfrac{\\partial a_3}{\\partial x_3} \\\\\n",
        "\\end{bmatrix}\n",
        "\n",
        "= \\begin{bmatrix} 1\\dfrac{\\partial a_1}{\\partial x_1} + 1\\dfrac{\\partial a_1}{\\partial x_2} + 1\\dfrac{\\partial a_1}{\\partial x_3} & 1\\dfrac{\\partial a_2}{\\partial x_1} + 1\\dfrac{\\partial a_2}{\\partial x_2} + 1\\dfrac{\\partial a_2}{\\partial x_3} & 1\\dfrac{\\partial a_3}{\\partial x_1} + 1\\dfrac{\\partial a_3}{\\partial x_2} + 1\\dfrac{\\partial a_3}{\\partial x_3} \\end{bmatrix}\n",
        "\n",
        "= \\begin{bmatrix} 12(0)^3 + 0 + 0 & 0 + 12(1)^3 + 0 & 0 + 0 + 12(5)^3 \\end{bmatrix} =  \\begin{bmatrix} 0 & 12 & 1500 \\end{bmatrix}$$\n",
        "\n",
        "Uzyskujemy te same gradienty co policzyliśmy dla wektora $\\mathbf x$. Zamiast przekazywać wektor jedynek do `backward()`, można najpierw policzyć sumę wektora $\\mathbf a$ a potem wykonać propagację wsteczną."
      ]
    },
    {
      "cell_type": "code",
      "execution_count": 7,
      "metadata": {
        "id": "PVcNdrQKo0d0"
      },
      "outputs": [
        {
          "name": "stdout",
          "output_type": "stream",
          "text": [
            "tensor([   0.,   12., 1500.])\n",
            "tensor([   0.,   12., 1500.], grad_fn=<MulBackward0>)\n"
          ]
        }
      ],
      "source": [
        "x.grad.data.zero_()\n",
        "a = 3*(x**2)**2 + y**3\n",
        "a.sum().backward()\n",
        "print(x.grad)\n",
        "print(12*(x**3))\n",
        "assert (x.grad == 12*(x**3)).all()"
      ]
    },
    {
      "cell_type": "markdown",
      "metadata": {
        "id": "ZpK5aW-CrKxP"
      },
      "source": [
        "Wtedy pamiętając o tym, że pochodna sumy to suma pochodnych ($(f(x) + g(x))' = f'(x) + g'(x)$):\n",
        "\n",
        "$$\\begin{bmatrix}\n",
        " \\dfrac{\\partial a}{\\partial x_1} & \\dfrac{\\partial a}{\\partial x_2} & \\dfrac{\\partial a}{\\partial x_3}\n",
        "\\end{bmatrix} = \\begin{bmatrix} \\dfrac{\\partial (a_1 + a_2 + a_3)}{\\partial x_1} & \\dfrac{\\partial (a_1 + a_2 + a_3)}{\\partial x_2} & \\dfrac{\\partial (a_1 + a_2 + a_3)}{\\partial x_3} \\end{bmatrix} = \\begin{bmatrix} \\dfrac{\\partial a_1}{\\partial x_1} + \\dfrac{\\partial a_2}{\\partial x_1} + \\dfrac{\\partial a_3}{\\partial x_1} & \\dfrac{\\partial a_1}{\\partial x_2} + \\dfrac{\\partial a_2}{\\partial x_2} + \\dfrac{\\partial a_3}{\\partial x_2} & \\dfrac{\\partial a_1}{\\partial x_3} + \\dfrac{\\partial a_2}{\\partial x_3} + \\dfrac{\\partial a_3}{\\partial x_3} \\end{bmatrix} = \\begin{bmatrix} \\dfrac{\\partial a_1}{\\partial x_1} & \\dfrac{\\partial a_2}{\\partial x_2} & \\dfrac{\\partial a_3}{\\partial x_3} \\end{bmatrix} =  \\begin{bmatrix} 0 & 12 & 1500 \\end{bmatrix} $$\n",
        "\n",
        "Zatem po co w ogóle ten wektor? Otóż służy on do przekazywania wektora gradientu funkcji straty ($\\dfrac{\\partial \\mathbf{loss}}{\\partial \\mathbf w}$). Dzięki temu możemy mieć wpływ na to jaką poprawkę trzeba wykonać na danym wektorze (np. z parametrami modelu) względem tego jak bardzo mocno model pomylił się na danych uczących."
      ]
    },
    {
      "cell_type": "code",
      "execution_count": 8,
      "metadata": {
        "id": "jPnhVtQ2wIpy"
      },
      "outputs": [
        {
          "name": "stdout",
          "output_type": "stream",
          "text": [
            "tensor([   0.0000,    3.6000, -600.0001])\n",
            "tensor([   0.,   12., 1500.], grad_fn=<MulBackward0>)\n"
          ]
        }
      ],
      "source": [
        "x.grad.data.zero_()\n",
        "a = 3*(x**2)**2 + y**3\n",
        "a.backward(torch.tensor([0., 0.3, -0.4]))\n",
        "print(x.grad)\n",
        "print(12*(x**3))"
      ]
    },
    {
      "cell_type": "markdown",
      "metadata": {
        "id": "2nRcH7fZx-m9"
      },
      "source": [
        "## Graf obliczeniowy\n",
        "\n",
        "To wszystko jest możliwe dzięki temu, że autograd tworzy **acykliczny skierowany graf obilczeniowy**. Gdzie go przechowuje? Spójrzmy jeszcze raz na nasz wektor $\\mathbf a$."
      ]
    },
    {
      "cell_type": "code",
      "execution_count": 9,
      "metadata": {
        "id": "req-qWXFx-Po"
      },
      "outputs": [
        {
          "name": "stdout",
          "output_type": "stream",
          "text": [
            "tensor([ 512.,   11., 1939.], grad_fn=<AddBackward0>)\n",
            "((<MulBackward0 object at 0x000001FE92E47A90>, 0), (<PowBackward0 object at 0x000001FE916B3520>, 0))\n"
          ]
        }
      ],
      "source": [
        "print(a)\n",
        "print(a.grad_fn.next_functions)"
      ]
    },
    {
      "cell_type": "markdown",
      "metadata": {
        "id": "vWUeVJI4tC0y"
      },
      "source": [
        "Obiekt a ma pole `grad_fn` a ono ma pole `next_functions`. Widzimy, że $\\mathbf a$ powstało z przemnożenia dwóch tensorów, gdzie pierwszy tensor był wynikiem mnożenia a drugi - potęgowania. A więc na razie wiemy, że `a = (_*_) + (_**_)`. I kolejno przechodząc po tym grafie możemy dalej odkrywać jego strukturę i jaka droga skonstruowania $\\mathbf a$ się za nim kryje."
      ]
    },
    {
      "cell_type": "code",
      "execution_count": 10,
      "metadata": {
        "id": "iG7ewXOpuBg9"
      },
      "outputs": [
        {
          "name": "stdout",
          "output_type": "stream",
          "text": [
            "((<PowBackward0 object at 0x000001FE8A3ACCA0>, 0), (None, 0))\n",
            "((<PowBackward0 object at 0x000001FE91938190>, 0),)\n",
            "((<AccumulateGrad object at 0x000001FE8A3ACCA0>, 0),)\n",
            "\n",
            "((<AccumulateGrad object at 0x000001FE91938190>, 0),)\n"
          ]
        }
      ],
      "source": [
        "print(a.grad_fn.next_functions[0][0].next_functions) # a = ((_**_))*_) + (_**_)\n",
        "print(a.grad_fn.next_functions[0][0].next_functions[0][0].next_functions) # a = (((_**_))**_))*_) + (_**_)\n",
        "print(a.grad_fn.next_functions[0][0].next_functions[0][0].next_functions[0][0].next_functions) # a = (((x**_))**_))*_) + (_**_)\n",
        "print()\n",
        "print(a.grad_fn.next_functions[1][0].next_functions) # a = (((x**_))**_))*_) + (y**_)"
      ]
    },
    {
      "cell_type": "markdown",
      "metadata": {
        "id": "O9AcjeSWwe2C"
      },
      "source": [
        "Po chwilii analizy można dostrzec że ta strutura odpowiada obliczeniu tensora $a$ ze wzoru $3(\\mathbf x^2)^2 + \\mathbf y^3$.\n",
        "\n",
        "Jeszcze warto wspomnieć o tym, że PyTorch śledzi to dla których tensorów trzeba tworzyć ten graf a dla których nie. Dlatego też jeżeli w operacjach użyjemy tensora, który \"wymaga gradientu\" (`requires_grad=True`) to uzyskamy tensor \"wymagający gradientu\":"
      ]
    },
    {
      "cell_type": "code",
      "execution_count": 11,
      "metadata": {
        "id": "OsVXVIt0xgmH"
      },
      "outputs": [
        {
          "name": "stdout",
          "output_type": "stream",
          "text": [
            "False\n",
            "True\n"
          ]
        }
      ],
      "source": [
        "x = torch.tensor([1., 2., 3.])\n",
        "y = torch.tensor([6., 7., 8.])\n",
        "z = torch.tensor([9., 7., 8.], requires_grad=True)\n",
        "print((2*x + 3**y).requires_grad)\n",
        "print((2*x + 3**y + z).requires_grad)"
      ]
    },
    {
      "cell_type": "markdown",
      "metadata": {
        "id": "F31LTMdi2ZTe"
      },
      "source": [
        "# Refactoring kodu z laboratorium 2\n",
        "\n",
        "W tej części laboratorium dokonasz refaktoringu kodu z laboratorium drugiego z wykorzystaniem gotowych rozwiązań w bibliotece `torch` a w szczególności w `torch.nn`. Najpierw zacznijmy od załadowania zbioru danych i podzielenia go na zbiór uczący i testowy."
      ]
    },
    {
      "cell_type": "code",
      "execution_count": 12,
      "metadata": {
        "id": "U9wlFq0z2y-R"
      },
      "outputs": [
        {
          "data": {
            "text/plain": [
              "tensor([0, 2, 0, 1, 2, 1, 1, 2, 2, 0, 2, 0, 2, 2, 1, 1, 2, 1, 2, 1, 0, 0, 2, 0,\n",
              "        1, 1, 2, 0, 2, 0, 0, 1, 1, 2, 2, 0, 0, 0, 0, 2, 1, 2, 0, 0, 2, 2, 1, 0,\n",
              "        0, 1, 2, 1, 1, 1, 2, 1, 0, 0, 1, 1], device='cuda:0',\n",
              "       dtype=torch.int32)"
            ]
          },
          "execution_count": 12,
          "metadata": {},
          "output_type": "execute_result"
        }
      ],
      "source": [
        "X, y = load_iris(return_X_y=True)\n",
        "\n",
        "X_train, X_test, y_train, y_test = train_test_split(X, y, test_size=0.4, random_state=1, stratify=y)\n",
        "\n",
        "X_train = torch.tensor(X_train).float().cuda()\n",
        "X_test = torch.tensor(X_test).float().cuda()\n",
        "y_train = torch.tensor(y_train).cuda()\n",
        "y_test = torch.tensor(y_test).cuda()\n",
        "\n",
        "y_test"
      ]
    },
    {
      "cell_type": "markdown",
      "metadata": {
        "id": "I7l1l8oi5xIM"
      },
      "source": [
        "## `nn.Module` oraz `CrossEntropyLoss`\n",
        "\n",
        "Na poprzednich laboratoriach w tym miejscu implementowaliśmy funkcję sigmoid, inicjalizację parametrów oraz propagację w przód i wsteczną. Tym razem nie będzie trzeba tego robić, jednakże zdefiniujesz architekturę sieci przy użyciu modułu `torch.nn`.\n",
        "\n",
        "***Zaimplementuj*** klasę Perceptron - klasę dziedziczącą po `nn.Module` z jedną warstwą transformacji liniowej (Perceptrona, [`torch.nn.Linear`](https://pytorch.org/docs/stable/generated/torch.nn.Linear.html)). Na razie ***pomiń*** transformację nieliniową (np. sigmoid).\n",
        "\n"
      ]
    },
    {
      "cell_type": "code",
      "execution_count": 13,
      "metadata": {
        "id": "x3puwuoU_pt_"
      },
      "outputs": [],
      "source": [
        "class Perceptron(nn.Module):\n",
        "    def __init__(self, int_dim: int = 4, out_dim: int = 3):\n",
        "        super().__init__()\n",
        "        self.int_dim = int_dim\n",
        "        self.out_dim = out_dim\n",
        "        self.net = nn.Linear(self.int_dim, self.out_dim) # Użyj nn.Linear\n",
        "\n",
        "    def forward(self, x: torch.Tensor):\n",
        "        return self.net(x)\n"
      ]
    },
    {
      "cell_type": "markdown",
      "metadata": {
        "id": "rY0OAVWM8DF6"
      },
      "source": [
        "Wspominmy tylko, że można nadal używać `torch.nn` i nie wykorzystywać gotowych warstw sieci tylko samemu implementować operacje na tensorach:\n",
        "\n",
        "```\n",
        "class Perceptron(nn.Module):\n",
        "    def __init__(self, in_dim: int, out_dim: int):\n",
        "        super().__init__()\n",
        "        self.weights = nn.Parameter(\n",
        "          torch.randn(in_dim, out_dim) / math.sqrt(in_dim)\n",
        "        )\n",
        "        self.bias = nn.Parameter(torch.zeros(out_dim))\n",
        "\n",
        "    def forward(self, xb: torch.Tensor):\n",
        "        return xb @ self.weights + self.bias\n",
        "```\n",
        "***Przetestuj*** poprawność swojej implementacji."
      ]
    },
    {
      "cell_type": "code",
      "execution_count": 14,
      "metadata": {
        "id": "g3OrIHg-82v5"
      },
      "outputs": [
        {
          "name": "stdout",
          "output_type": "stream",
          "text": [
            "tensor([-0.3804,  1.3838, -4.0090], device='cuda:0', grad_fn=<ViewBackward0>)\n"
          ]
        }
      ],
      "source": [
        "model = Perceptron().cuda()\n",
        "y_pred_0 = model(X_train[0])\n",
        "print(y_pred_0)\n",
        "\n",
        "assert isinstance(y_pred_0, torch.cuda.FloatTensor)\n",
        "assert len(y_pred_0) == 3"
      ]
    },
    {
      "cell_type": "markdown",
      "metadata": {
        "id": "sdodFGsV_EMR"
      },
      "source": [
        "Wykorzystanie `nn.Linear` nie tylko odciążyło nas z implementacji operacji na tensorasch, ale także z inicjalizacji paprametrów modelu - inicjalizacja parametrów jest domyślnie implementowana przez daną wartstwę. Jeżeli uruchomisz powyższy kod wielokrotnie to zauważysz, że za każdym razem otrzymujesz inny tensor wyjściowy. Wynika to z tego, że początkowe parametry modelu są domyślnie **losowane**. Oznacza to, że proces uczenia będzie **niedeterministryczny** - każde uruchomienie da inny wynik parametrów, które model się nauczy.\n",
        "\n",
        "Pozostało jeszcze dodanie nieliniowej transformacji do sieci, ale nie będziemy tego robić. Dodatkowo zamiast tworzyć osobny klasifikator na klasę, zastosujemy jeden klasyfikator. W tym celu zmieniemy funkcję kosztu. Do klasyfikacji wieloklasowej wykorzystamy funkcję **straty krzyżowej entropii**.\n",
        "\n",
        "$\\text{loss} = -\\frac{1}{N}\\sum_{i}^{N}\\log(\\text{softmax}(x_{i}){y_{i}}) $, gdzie $N$ oznacza liczbę przypadków, $x_{i}$ wyjście z ostatniej warstwy $i$-tej instancji, $y_{i}$ klasę $i$-tej instancji.\n",
        "\n",
        "**Softmax** jest przekstałceniem nielinowym powszechnie używanym jako ostatnia warstwa sieci neuronowej służącej do klasyfikacji. Jej mocną stroną jest to, że suma wszystkich elementów tensora będących na jej wyjściu wynosi $1$. Dzięki temu możemy wyjście sieci interpretować jako przypisanie pseudoprawdopodbieństwa dla klasyfikacji dla danej próbki.\n",
        "\n",
        "Dla danego wektora $\\mathbf x = (x_1, x_2, \\ldots, x_i, \\ldots, x_C)$ funkcja Softmax jest zdefiniowana jako:\n",
        "$\\text{Softmax}(x_{i}) = \\frac{\\exp(x_{i})}{\\sum_{j}^{C} \\exp(x_{j})}$, gdzie $C$ oznacza liczbę klas.\n",
        "\n",
        "W tym zadaniu nie będziemy implementować tych funkcji samemu tylko wykorzystamy gotową implementację w bibliotece torch. Implementację znajdziemy w [`torch.nn.CrossEntropyLoss`](https://pytorch.org/docs/stable/generated/torch.nn.CrossEntropyLoss.html). Przyjmuje ona \"surowe\" wartości, dlatego że oblicza również funkcję **LogSoftmax**. Alternatywnie możemy nałożyć funkcję aktywacji LogSoftmax z modułu [`torch.nn.LogSoftmax`](https://pytorch.org/docs/stable/generated/torch.nn.LogSoftmax.html) i obliczyć negatywny logarytm funkcji wiarygodności (ang. *negative log likelihood*) [`torch.nn.NLLLoss`](https://pytorch.org/docs/stable/generated/torch.nn.NLLLoss.html#torch.nn.NLLLoss). `torch.nn.NLLLoss` nie wykonuje operacji logarytmowania tylko oczekuje zlogarytmowanego wejścia.\n",
        "\n",
        "**LogSoftmax** wykorzystany jest tutaj nieprzypadkowo. Funkcja softmax w oryginalnej postaci nie jest odparna na wystąpienie niestabilności numerycznych. W przypadku liczenia entropii krzyżowej możemy wykorzystać skalę logarytmiczną do przeprowadzenia operacji. Dzięki przenesieniu obliczania logarytmu do funkcji Softmax możemy zastąpić dzielenie na różnicę logarytmów. czyli zamiast powyższej definicji funkcja LogSoftmax przyjmuję następującą postać:\n",
        "\n",
        "$\\text{LogSoftmax}(x_{i}) = x_{i} - log \\bigg({\\sum_{j}^{C} \\exp(x_{j})}\\bigg)$\n",
        "\n",
        "Dodatkowo stosowany jest także trik polegający na zastąpieniu operacji $log \\bigg({\\sum_{j}^{C} \\exp(x_{j})}\\bigg)$ operacją **LogSumExp**, zdefiniowaną jako\n",
        "\n",
        "$\\text{LogSumExp}(\\mathbf x) = \\max(\\mathbf x) + log \\bigg({\\sum_{j}^{C} \\exp(x_{j} - \\max(\\mathbf x))}\\bigg)$.\n",
        "\n",
        "Pozwala to pozbyć się dużych wartości $x_{j}$ podczas obliczania $\\exp$.\n",
        "\n"
      ]
    },
    {
      "cell_type": "markdown",
      "metadata": {
        "id": "S5hwoYUOMCE7"
      },
      "source": [
        "## Algorytmy online i offline (`DataLoader`)\n",
        "\n",
        "Na poprzednich zajęciach zaimplementowałaś(eś) **algorytm offline** (alternatywnie batchowy lub deterministyczny, ang. *offline*, *batch*, *deterministic*) tzn. taki, który przetwarza od razu wszystkie dane. Jednakże implementując sieci neuronowe tworzymy często algorytmy **online** (alternatywnie stochastyczne, ang. *online*, *stochastic*), które przetwarzają dane w \"kawałkach\" lub wręcz mogą dostawać je \"na bieżąco\" bez konieczności posiadania wszystkcih danych przed uruchomieniem algorytmu. Są różne powody, dla których tak się robi, ale najczęstrzy jest taki, że przy głębszych architektrurach i bardziej złożonych obiektach (np. obrazach) byłoby fizycznie nie możliwe pomieścić te wszystkie dane w pamięci RAM lub VRAM (RAM na GPU) wraz z parametrami modelu.\n",
        "\n",
        "Liczbę próbek w algorytmach stochastycznych w sieciach neuronowych określa się jako **minibatch size** lub po prostu **batch size**. Przy czym określenie *batch size* nie odnosi się tutaj do algorytmów batchowych (operujących na całym zbiorze danych), tylko do algorytmów online/minibatch. Po prostu *batch size* jest określeniem krótszym (ale mniej poprawnym) niż *minibatch size*, stąd też powszechnie używa się tego pierwszego. Z tego też powodu czasami niektórzy używają określenia *batch* na *minibatch* - warto mieć to na uwadze przy komunikowaniu się z innymi osobami.\n",
        "\n",
        "Do zaimplementowania minibatchy wykorzystamy [`torch.utils.data.DataLoader`](https://pytorch.org/docs/stable/data.html#torch.utils.data.DataLoader). ***Zaimplementuj*** funkcję `to_dataloader`, która `X_train` i `y_train` oraz `X_test` i `y_test` umieści w dwóch osobnych instancjach klasy `DataLoader` z wielkością minibatacha równą `batch_size`"
      ]
    },
    {
      "cell_type": "code",
      "execution_count": 15,
      "metadata": {
        "id": "ni_A2b6nQHTX"
      },
      "outputs": [],
      "source": [
        "def to_dataloader(\n",
        "    X_train: torch.Tensor,\n",
        "    y_train: torch.Tensor,\n",
        "    X_test: torch.Tensor,\n",
        "    y_test: torch.Tensor,\n",
        "    batch_size: int = 32\n",
        ") -> Tuple[DataLoader, DataLoader]:\n",
        "    train_ds = TensorDataset(X_train, y_train)\n",
        "    train_dl = DataLoader(train_ds, batch_size=batch_size, shuffle=True)\n",
        "\n",
        "    test_ds = TensorDataset(X_test, y_test)\n",
        "    test_dl = DataLoader(test_ds, batch_size=batch_size)\n",
        "\n",
        "    return train_dl, test_dl"
      ]
    },
    {
      "cell_type": "markdown",
      "metadata": {
        "id": "LaPQq3iKXPJ-"
      },
      "source": [
        "***Przetestuj*** implementację"
      ]
    },
    {
      "cell_type": "code",
      "execution_count": 16,
      "metadata": {
        "id": "m6LRNS6sWWA2"
      },
      "outputs": [
        {
          "name": "stdout",
          "output_type": "stream",
          "text": [
            "[tensor([[5.1000, 3.8000, 1.9000, 0.4000],\n",
            "        [7.4000, 2.8000, 6.1000, 1.9000],\n",
            "        [4.6000, 3.2000, 1.4000, 0.2000],\n",
            "        [6.4000, 2.9000, 4.3000, 1.3000],\n",
            "        [7.3000, 2.9000, 6.3000, 1.8000],\n",
            "        [7.0000, 3.2000, 4.7000, 1.4000],\n",
            "        [5.1000, 2.5000, 3.0000, 1.1000],\n",
            "        [7.2000, 3.2000, 6.0000, 1.8000],\n",
            "        [6.7000, 2.5000, 5.8000, 1.8000],\n",
            "        [5.0000, 3.4000, 1.5000, 0.2000],\n",
            "        [6.1000, 3.0000, 4.9000, 1.8000],\n",
            "        [5.1000, 3.5000, 1.4000, 0.2000],\n",
            "        [6.9000, 3.2000, 5.7000, 2.3000],\n",
            "        [6.2000, 3.4000, 5.4000, 2.3000],\n",
            "        [6.0000, 3.4000, 4.5000, 1.6000],\n",
            "        [6.1000, 3.0000, 4.6000, 1.4000],\n",
            "        [6.8000, 3.0000, 5.5000, 2.1000],\n",
            "        [6.8000, 2.8000, 4.8000, 1.4000],\n",
            "        [5.7000, 2.5000, 5.0000, 2.0000],\n",
            "        [6.2000, 2.2000, 4.5000, 1.5000],\n",
            "        [5.7000, 4.4000, 1.5000, 0.4000],\n",
            "        [5.0000, 3.5000, 1.6000, 0.6000],\n",
            "        [6.7000, 3.3000, 5.7000, 2.5000],\n",
            "        [4.4000, 2.9000, 1.4000, 0.2000],\n",
            "        [5.6000, 2.7000, 4.2000, 1.3000],\n",
            "        [6.6000, 3.0000, 4.4000, 1.4000],\n",
            "        [5.9000, 3.0000, 5.1000, 1.8000],\n",
            "        [5.4000, 3.9000, 1.7000, 0.4000],\n",
            "        [6.7000, 3.1000, 5.6000, 2.4000],\n",
            "        [4.9000, 3.0000, 1.4000, 0.2000],\n",
            "        [4.6000, 3.4000, 1.4000, 0.3000],\n",
            "        [5.7000, 2.8000, 4.1000, 1.3000]], device='cuda:0'), tensor([0, 2, 0, 1, 2, 1, 1, 2, 2, 0, 2, 0, 2, 2, 1, 1, 2, 1, 2, 1, 0, 0, 2, 0,\n",
            "        1, 1, 2, 0, 2, 0, 0, 1], device='cuda:0', dtype=torch.int32)]\n",
            "[tensor([[6.7000, 3.1000, 4.4000, 1.4000],\n",
            "        [6.5000, 3.0000, 5.5000, 1.8000],\n",
            "        [6.4000, 2.7000, 5.3000, 1.9000],\n",
            "        [4.8000, 3.4000, 1.6000, 0.2000],\n",
            "        [5.2000, 3.4000, 1.4000, 0.2000],\n",
            "        [5.4000, 3.4000, 1.7000, 0.2000],\n",
            "        [4.8000, 3.0000, 1.4000, 0.1000],\n",
            "        [6.5000, 3.0000, 5.2000, 2.0000],\n",
            "        [6.5000, 2.8000, 4.6000, 1.5000],\n",
            "        [7.1000, 3.0000, 5.9000, 2.1000],\n",
            "        [4.9000, 3.1000, 1.5000, 0.2000],\n",
            "        [5.4000, 3.9000, 1.3000, 0.4000],\n",
            "        [6.5000, 3.0000, 5.8000, 2.2000],\n",
            "        [4.9000, 2.5000, 4.5000, 1.7000],\n",
            "        [6.1000, 2.8000, 4.7000, 1.2000],\n",
            "        [4.9000, 3.1000, 1.5000, 0.1000],\n",
            "        [5.0000, 3.0000, 1.6000, 0.2000],\n",
            "        [4.9000, 2.4000, 3.3000, 1.0000],\n",
            "        [6.9000, 3.1000, 5.1000, 2.3000],\n",
            "        [5.5000, 2.3000, 4.0000, 1.3000],\n",
            "        [5.6000, 3.0000, 4.5000, 1.5000],\n",
            "        [6.3000, 3.3000, 4.7000, 1.6000],\n",
            "        [5.6000, 2.8000, 4.9000, 2.0000],\n",
            "        [5.4000, 3.0000, 4.5000, 1.5000],\n",
            "        [5.7000, 3.8000, 1.7000, 0.3000],\n",
            "        [4.9000, 3.6000, 1.4000, 0.1000],\n",
            "        [6.0000, 2.2000, 4.0000, 1.0000],\n",
            "        [6.1000, 2.8000, 4.0000, 1.3000]], device='cuda:0'), tensor([1, 2, 2, 0, 0, 0, 0, 2, 1, 2, 0, 0, 2, 2, 1, 0, 0, 1, 2, 1, 1, 1, 2, 1,\n",
            "        0, 0, 1, 1], device='cuda:0', dtype=torch.int32)]\n"
          ]
        }
      ],
      "source": [
        "train_loader, test_loader = to_dataloader(\n",
        "    X_train=X_train,  y_train=y_train,\n",
        "    X_test=X_test, y_test=y_test,\n",
        "    batch_size=32\n",
        ")\n",
        "\n",
        "for sample in test_loader:\n",
        "    print(sample)"
      ]
    },
    {
      "cell_type": "markdown",
      "metadata": {
        "id": "B7yYkPUtxcaJ"
      },
      "source": [
        "## Ewaluacja modelu - metryki\n",
        "\n",
        "***Zaimplementuj*** funkcję `validate`, które dla danego modelu, funkcji straty i loadera zwróci średnią wartość funkcji straty oraz dokładność (ang. *accuracy*) dla danych z `dataloader`."
      ]
    },
    {
      "cell_type": "code",
      "execution_count": 17,
      "metadata": {
        "id": "5iCngT3Ctn-e"
      },
      "outputs": [],
      "source": [
        "def count_correct(\n",
        "    y_pred: torch.Tensor, y_true: torch.Tensor\n",
        ") -> torch.Tensor:\n",
        "    preds = torch.argmax(y_pred, dim=1)\n",
        "    return (preds == y_true).float().sum()\n",
        "\n",
        "def validate(\n",
        "    model: nn.Module,\n",
        "    loss_fn: torch.nn.CrossEntropyLoss,\n",
        "    dataloader: DataLoader\n",
        ") -> Tuple[torch.Tensor, torch.Tensor]:\n",
        "    loss = 0\n",
        "    correct = 0\n",
        "    all = 0\n",
        "    for X_batch, y_batch in dataloader:\n",
        "        y_pred = model(X_batch)\n",
        "        y_batch = y_batch.type(torch.long)\n",
        "        all += len(y_pred)\n",
        "        loss += len(y_pred) * loss_fn(y_pred, y_batch)\n",
        "        correct += count_correct(y_pred, y_batch)\n",
        "    return loss / all, correct / all\n"
      ]
    },
    {
      "cell_type": "markdown",
      "metadata": {
        "id": "sZgBH3lxF2l5"
      },
      "source": [
        "***Przetestuj*** swoją implementację"
      ]
    },
    {
      "cell_type": "code",
      "execution_count": 18,
      "metadata": {
        "id": "X0W8GaaNvoFC"
      },
      "outputs": [
        {
          "name": "stdout",
          "output_type": "stream",
          "text": [
            "tensor(2.6445, device='cuda:0', grad_fn=<DivBackward0>) tensor(0.3333, device='cuda:0')\n"
          ]
        }
      ],
      "source": [
        "loss_fn = torch.nn.CrossEntropyLoss()\n",
        "val_train, acc_train = validate(model, loss_fn, test_loader)\n",
        "print(val_train, acc_train)"
      ]
    },
    {
      "cell_type": "markdown",
      "metadata": {
        "id": "l6Me2ep7HFC-"
      },
      "source": [
        "## Uczenie\n",
        "\n",
        "Przed uzupełnieniem poniżej implementacji została nam jeszcze jedna istotna kwestia do poruszenia. Otóż dot tej pory aktualizację parametrów dokonywaliśmy wg prostej formuły - mnożyliśmy gradienty przez współczynnik uczenia (ang. *learning rate*) i odejmowalismy od parametrów. Jednakże do uczenia sieci neuronowych sotsujemy często optymalizatory (ang. *optimiser*), które mogą implementować różne podejścia do uakualiniania parameterów modelu. Wykorzystamy tutaj algorytm **Adam** (ang. *adaptive moment estimation*), który dostosowuje współczynnik uczenia do poszczególnych parametrów i jest często optimizatorem pierwszego wyboru.\n",
        "\n",
        "***Uzupełnij i przetestuj*** poniższą implementację uczenia modelu. Porównaj jej skuteczność z tą, którą zaimplementowałeś(aś) na laboratorium 2."
      ]
    },
    {
      "cell_type": "code",
      "execution_count": 19,
      "metadata": {},
      "outputs": [],
      "source": [
        "import pandas as pd\n",
        "import matplotlib.pyplot as plt"
      ]
    },
    {
      "cell_type": "code",
      "execution_count": 20,
      "metadata": {
        "id": "Enlx7Cr33frK"
      },
      "outputs": [
        {
          "name": "stdout",
          "output_type": "stream",
          "text": [
            "Epoch 0: train loss = 1.589 (acc: 0.333), validation loss = 1.584 (acc: 0.333)\n",
            "Epoch 1: train loss = 1.558 (acc: 0.333), validation loss = 1.553 (acc: 0.333)\n",
            "Epoch 2: train loss = 1.527 (acc: 0.333), validation loss = 1.523 (acc: 0.333)\n",
            "Epoch 3: train loss = 1.497 (acc: 0.333), validation loss = 1.493 (acc: 0.333)\n",
            "Epoch 4: train loss = 1.468 (acc: 0.344), validation loss = 1.465 (acc: 0.333)\n",
            "Epoch 5: train loss = 1.438 (acc: 0.344), validation loss = 1.436 (acc: 0.333)\n",
            "Epoch 6: train loss = 1.410 (acc: 0.356), validation loss = 1.409 (acc: 0.333)\n",
            "Epoch 7: train loss = 1.383 (acc: 0.356), validation loss = 1.382 (acc: 0.350)\n",
            "Epoch 8: train loss = 1.357 (acc: 0.356), validation loss = 1.357 (acc: 0.367)\n",
            "Epoch 9: train loss = 1.332 (acc: 0.389), validation loss = 1.332 (acc: 0.367)\n",
            "Epoch 10: train loss = 1.306 (acc: 0.389), validation loss = 1.307 (acc: 0.383)\n",
            "Epoch 11: train loss = 1.282 (acc: 0.433), validation loss = 1.284 (acc: 0.400)\n",
            "Epoch 12: train loss = 1.259 (acc: 0.444), validation loss = 1.261 (acc: 0.417)\n",
            "Epoch 13: train loss = 1.237 (acc: 0.489), validation loss = 1.240 (acc: 0.433)\n",
            "Epoch 14: train loss = 1.216 (acc: 0.522), validation loss = 1.219 (acc: 0.483)\n",
            "Epoch 15: train loss = 1.195 (acc: 0.556), validation loss = 1.200 (acc: 0.500)\n",
            "Epoch 16: train loss = 1.176 (acc: 0.589), validation loss = 1.181 (acc: 0.550)\n",
            "Epoch 17: train loss = 1.158 (acc: 0.589), validation loss = 1.163 (acc: 0.583)\n",
            "Epoch 18: train loss = 1.141 (acc: 0.600), validation loss = 1.147 (acc: 0.600)\n",
            "Epoch 19: train loss = 1.125 (acc: 0.600), validation loss = 1.131 (acc: 0.617)\n",
            "Epoch 20: train loss = 1.109 (acc: 0.622), validation loss = 1.116 (acc: 0.617)\n",
            "Epoch 21: train loss = 1.095 (acc: 0.633), validation loss = 1.103 (acc: 0.633)\n",
            "Epoch 22: train loss = 1.082 (acc: 0.644), validation loss = 1.090 (acc: 0.650)\n",
            "Epoch 23: train loss = 1.069 (acc: 0.656), validation loss = 1.078 (acc: 0.667)\n",
            "Epoch 24: train loss = 1.058 (acc: 0.656), validation loss = 1.067 (acc: 0.667)\n",
            "Epoch 25: train loss = 1.047 (acc: 0.656), validation loss = 1.057 (acc: 0.667)\n",
            "Epoch 26: train loss = 1.037 (acc: 0.656), validation loss = 1.047 (acc: 0.667)\n",
            "Epoch 27: train loss = 1.028 (acc: 0.656), validation loss = 1.038 (acc: 0.667)\n",
            "Epoch 28: train loss = 1.019 (acc: 0.656), validation loss = 1.030 (acc: 0.667)\n",
            "Epoch 29: train loss = 1.012 (acc: 0.667), validation loss = 1.023 (acc: 0.667)\n",
            "Epoch 30: train loss = 1.005 (acc: 0.667), validation loss = 1.016 (acc: 0.667)\n",
            "Epoch 31: train loss = 0.998 (acc: 0.667), validation loss = 1.009 (acc: 0.667)\n",
            "Epoch 32: train loss = 0.992 (acc: 0.667), validation loss = 1.004 (acc: 0.667)\n",
            "Epoch 33: train loss = 0.986 (acc: 0.667), validation loss = 0.998 (acc: 0.667)\n",
            "Epoch 34: train loss = 0.980 (acc: 0.667), validation loss = 0.993 (acc: 0.667)\n",
            "Epoch 35: train loss = 0.975 (acc: 0.667), validation loss = 0.988 (acc: 0.667)\n",
            "Epoch 36: train loss = 0.971 (acc: 0.667), validation loss = 0.984 (acc: 0.650)\n",
            "Epoch 37: train loss = 0.966 (acc: 0.656), validation loss = 0.979 (acc: 0.617)\n",
            "Epoch 38: train loss = 0.962 (acc: 0.656), validation loss = 0.975 (acc: 0.567)\n",
            "Epoch 39: train loss = 0.958 (acc: 0.656), validation loss = 0.972 (acc: 0.617)\n",
            "Epoch 40: train loss = 0.954 (acc: 0.644), validation loss = 0.968 (acc: 0.567)\n",
            "Epoch 41: train loss = 0.950 (acc: 0.644), validation loss = 0.964 (acc: 0.567)\n",
            "Epoch 42: train loss = 0.947 (acc: 0.600), validation loss = 0.961 (acc: 0.550)\n",
            "Epoch 43: train loss = 0.943 (acc: 0.589), validation loss = 0.958 (acc: 0.550)\n",
            "Epoch 44: train loss = 0.940 (acc: 0.556), validation loss = 0.954 (acc: 0.567)\n",
            "Epoch 45: train loss = 0.937 (acc: 0.556), validation loss = 0.951 (acc: 0.567)\n",
            "Epoch 46: train loss = 0.933 (acc: 0.600), validation loss = 0.948 (acc: 0.600)\n",
            "Epoch 47: train loss = 0.930 (acc: 0.611), validation loss = 0.945 (acc: 0.600)\n",
            "Epoch 48: train loss = 0.927 (acc: 0.611), validation loss = 0.942 (acc: 0.600)\n",
            "Epoch 49: train loss = 0.924 (acc: 0.622), validation loss = 0.939 (acc: 0.583)\n"
          ]
        },
        {
          "data": {
            "text/html": [
              "<div>\n",
              "<style scoped>\n",
              "    .dataframe tbody tr th:only-of-type {\n",
              "        vertical-align: middle;\n",
              "    }\n",
              "\n",
              "    .dataframe tbody tr th {\n",
              "        vertical-align: top;\n",
              "    }\n",
              "\n",
              "    .dataframe thead th {\n",
              "        text-align: right;\n",
              "    }\n",
              "</style>\n",
              "<table border=\"1\" class=\"dataframe\">\n",
              "  <thead>\n",
              "    <tr style=\"text-align: right;\">\n",
              "      <th></th>\n",
              "      <th>train_loss</th>\n",
              "      <th>train_acc</th>\n",
              "      <th>val_loss</th>\n",
              "      <th>val_acc</th>\n",
              "    </tr>\n",
              "  </thead>\n",
              "  <tbody>\n",
              "    <tr>\n",
              "      <th>0</th>\n",
              "      <td>1.589373</td>\n",
              "      <td>0.333333</td>\n",
              "      <td>1.583721</td>\n",
              "      <td>0.333333</td>\n",
              "    </tr>\n",
              "    <tr>\n",
              "      <th>1</th>\n",
              "      <td>1.557799</td>\n",
              "      <td>0.333333</td>\n",
              "      <td>1.552821</td>\n",
              "      <td>0.333333</td>\n",
              "    </tr>\n",
              "    <tr>\n",
              "      <th>2</th>\n",
              "      <td>1.527085</td>\n",
              "      <td>0.333333</td>\n",
              "      <td>1.522780</td>\n",
              "      <td>0.333333</td>\n",
              "    </tr>\n",
              "    <tr>\n",
              "      <th>3</th>\n",
              "      <td>1.496654</td>\n",
              "      <td>0.333333</td>\n",
              "      <td>1.493033</td>\n",
              "      <td>0.333333</td>\n",
              "    </tr>\n",
              "    <tr>\n",
              "      <th>4</th>\n",
              "      <td>1.467516</td>\n",
              "      <td>0.344444</td>\n",
              "      <td>1.464566</td>\n",
              "      <td>0.333333</td>\n",
              "    </tr>\n",
              "    <tr>\n",
              "      <th>5</th>\n",
              "      <td>1.438445</td>\n",
              "      <td>0.344444</td>\n",
              "      <td>1.436172</td>\n",
              "      <td>0.333333</td>\n",
              "    </tr>\n",
              "    <tr>\n",
              "      <th>6</th>\n",
              "      <td>1.410202</td>\n",
              "      <td>0.355556</td>\n",
              "      <td>1.408604</td>\n",
              "      <td>0.333333</td>\n",
              "    </tr>\n",
              "    <tr>\n",
              "      <th>7</th>\n",
              "      <td>1.383321</td>\n",
              "      <td>0.355556</td>\n",
              "      <td>1.382377</td>\n",
              "      <td>0.350000</td>\n",
              "    </tr>\n",
              "    <tr>\n",
              "      <th>8</th>\n",
              "      <td>1.357150</td>\n",
              "      <td>0.355556</td>\n",
              "      <td>1.356852</td>\n",
              "      <td>0.366667</td>\n",
              "    </tr>\n",
              "    <tr>\n",
              "      <th>9</th>\n",
              "      <td>1.331569</td>\n",
              "      <td>0.388889</td>\n",
              "      <td>1.331921</td>\n",
              "      <td>0.366667</td>\n",
              "    </tr>\n",
              "    <tr>\n",
              "      <th>10</th>\n",
              "      <td>1.306372</td>\n",
              "      <td>0.388889</td>\n",
              "      <td>1.307382</td>\n",
              "      <td>0.383333</td>\n",
              "    </tr>\n",
              "    <tr>\n",
              "      <th>11</th>\n",
              "      <td>1.282270</td>\n",
              "      <td>0.433333</td>\n",
              "      <td>1.283922</td>\n",
              "      <td>0.400000</td>\n",
              "    </tr>\n",
              "    <tr>\n",
              "      <th>12</th>\n",
              "      <td>1.259020</td>\n",
              "      <td>0.444444</td>\n",
              "      <td>1.261301</td>\n",
              "      <td>0.416667</td>\n",
              "    </tr>\n",
              "    <tr>\n",
              "      <th>13</th>\n",
              "      <td>1.236960</td>\n",
              "      <td>0.488889</td>\n",
              "      <td>1.239858</td>\n",
              "      <td>0.433333</td>\n",
              "    </tr>\n",
              "    <tr>\n",
              "      <th>14</th>\n",
              "      <td>1.215906</td>\n",
              "      <td>0.522222</td>\n",
              "      <td>1.219404</td>\n",
              "      <td>0.483333</td>\n",
              "    </tr>\n",
              "    <tr>\n",
              "      <th>15</th>\n",
              "      <td>1.195478</td>\n",
              "      <td>0.555556</td>\n",
              "      <td>1.199581</td>\n",
              "      <td>0.500000</td>\n",
              "    </tr>\n",
              "    <tr>\n",
              "      <th>16</th>\n",
              "      <td>1.176277</td>\n",
              "      <td>0.588889</td>\n",
              "      <td>1.180970</td>\n",
              "      <td>0.550000</td>\n",
              "    </tr>\n",
              "    <tr>\n",
              "      <th>17</th>\n",
              "      <td>1.157868</td>\n",
              "      <td>0.588889</td>\n",
              "      <td>1.163143</td>\n",
              "      <td>0.583333</td>\n",
              "    </tr>\n",
              "    <tr>\n",
              "      <th>18</th>\n",
              "      <td>1.140859</td>\n",
              "      <td>0.600000</td>\n",
              "      <td>1.146693</td>\n",
              "      <td>0.600000</td>\n",
              "    </tr>\n",
              "    <tr>\n",
              "      <th>19</th>\n",
              "      <td>1.124644</td>\n",
              "      <td>0.600000</td>\n",
              "      <td>1.131021</td>\n",
              "      <td>0.616667</td>\n",
              "    </tr>\n",
              "    <tr>\n",
              "      <th>20</th>\n",
              "      <td>1.109299</td>\n",
              "      <td>0.622222</td>\n",
              "      <td>1.116206</td>\n",
              "      <td>0.616667</td>\n",
              "    </tr>\n",
              "    <tr>\n",
              "      <th>21</th>\n",
              "      <td>1.095399</td>\n",
              "      <td>0.633333</td>\n",
              "      <td>1.102807</td>\n",
              "      <td>0.633333</td>\n",
              "    </tr>\n",
              "    <tr>\n",
              "      <th>22</th>\n",
              "      <td>1.081769</td>\n",
              "      <td>0.644444</td>\n",
              "      <td>1.089695</td>\n",
              "      <td>0.650000</td>\n",
              "    </tr>\n",
              "    <tr>\n",
              "      <th>23</th>\n",
              "      <td>1.069289</td>\n",
              "      <td>0.655556</td>\n",
              "      <td>1.077701</td>\n",
              "      <td>0.666667</td>\n",
              "    </tr>\n",
              "    <tr>\n",
              "      <th>24</th>\n",
              "      <td>1.057701</td>\n",
              "      <td>0.655556</td>\n",
              "      <td>1.066582</td>\n",
              "      <td>0.666667</td>\n",
              "    </tr>\n",
              "    <tr>\n",
              "      <th>25</th>\n",
              "      <td>1.047302</td>\n",
              "      <td>0.655556</td>\n",
              "      <td>1.056619</td>\n",
              "      <td>0.666667</td>\n",
              "    </tr>\n",
              "    <tr>\n",
              "      <th>26</th>\n",
              "      <td>1.037216</td>\n",
              "      <td>0.655556</td>\n",
              "      <td>1.046972</td>\n",
              "      <td>0.666667</td>\n",
              "    </tr>\n",
              "    <tr>\n",
              "      <th>27</th>\n",
              "      <td>1.028048</td>\n",
              "      <td>0.655556</td>\n",
              "      <td>1.038210</td>\n",
              "      <td>0.666667</td>\n",
              "    </tr>\n",
              "    <tr>\n",
              "      <th>28</th>\n",
              "      <td>1.019363</td>\n",
              "      <td>0.655556</td>\n",
              "      <td>1.029935</td>\n",
              "      <td>0.666667</td>\n",
              "    </tr>\n",
              "    <tr>\n",
              "      <th>29</th>\n",
              "      <td>1.011583</td>\n",
              "      <td>0.666667</td>\n",
              "      <td>1.022527</td>\n",
              "      <td>0.666667</td>\n",
              "    </tr>\n",
              "    <tr>\n",
              "      <th>30</th>\n",
              "      <td>1.004682</td>\n",
              "      <td>0.666667</td>\n",
              "      <td>1.015946</td>\n",
              "      <td>0.666667</td>\n",
              "    </tr>\n",
              "    <tr>\n",
              "      <th>31</th>\n",
              "      <td>0.997805</td>\n",
              "      <td>0.666667</td>\n",
              "      <td>1.009419</td>\n",
              "      <td>0.666667</td>\n",
              "    </tr>\n",
              "    <tr>\n",
              "      <th>32</th>\n",
              "      <td>0.991572</td>\n",
              "      <td>0.666667</td>\n",
              "      <td>1.003504</td>\n",
              "      <td>0.666667</td>\n",
              "    </tr>\n",
              "    <tr>\n",
              "      <th>33</th>\n",
              "      <td>0.985731</td>\n",
              "      <td>0.666667</td>\n",
              "      <td>0.997965</td>\n",
              "      <td>0.666667</td>\n",
              "    </tr>\n",
              "    <tr>\n",
              "      <th>34</th>\n",
              "      <td>0.980357</td>\n",
              "      <td>0.666667</td>\n",
              "      <td>0.992870</td>\n",
              "      <td>0.666667</td>\n",
              "    </tr>\n",
              "    <tr>\n",
              "      <th>35</th>\n",
              "      <td>0.975290</td>\n",
              "      <td>0.666667</td>\n",
              "      <td>0.988069</td>\n",
              "      <td>0.666667</td>\n",
              "    </tr>\n",
              "    <tr>\n",
              "      <th>36</th>\n",
              "      <td>0.970693</td>\n",
              "      <td>0.666667</td>\n",
              "      <td>0.983697</td>\n",
              "      <td>0.650000</td>\n",
              "    </tr>\n",
              "    <tr>\n",
              "      <th>37</th>\n",
              "      <td>0.966275</td>\n",
              "      <td>0.655556</td>\n",
              "      <td>0.979497</td>\n",
              "      <td>0.616667</td>\n",
              "    </tr>\n",
              "    <tr>\n",
              "      <th>38</th>\n",
              "      <td>0.962048</td>\n",
              "      <td>0.655556</td>\n",
              "      <td>0.975477</td>\n",
              "      <td>0.566667</td>\n",
              "    </tr>\n",
              "    <tr>\n",
              "      <th>39</th>\n",
              "      <td>0.958038</td>\n",
              "      <td>0.655556</td>\n",
              "      <td>0.971655</td>\n",
              "      <td>0.616667</td>\n",
              "    </tr>\n",
              "    <tr>\n",
              "      <th>40</th>\n",
              "      <td>0.954142</td>\n",
              "      <td>0.644444</td>\n",
              "      <td>0.967944</td>\n",
              "      <td>0.566667</td>\n",
              "    </tr>\n",
              "    <tr>\n",
              "      <th>41</th>\n",
              "      <td>0.950364</td>\n",
              "      <td>0.644444</td>\n",
              "      <td>0.964338</td>\n",
              "      <td>0.566667</td>\n",
              "    </tr>\n",
              "    <tr>\n",
              "      <th>42</th>\n",
              "      <td>0.946768</td>\n",
              "      <td>0.600000</td>\n",
              "      <td>0.960890</td>\n",
              "      <td>0.550000</td>\n",
              "    </tr>\n",
              "    <tr>\n",
              "      <th>43</th>\n",
              "      <td>0.943240</td>\n",
              "      <td>0.588889</td>\n",
              "      <td>0.957507</td>\n",
              "      <td>0.550000</td>\n",
              "    </tr>\n",
              "    <tr>\n",
              "      <th>44</th>\n",
              "      <td>0.939773</td>\n",
              "      <td>0.555556</td>\n",
              "      <td>0.954185</td>\n",
              "      <td>0.566667</td>\n",
              "    </tr>\n",
              "    <tr>\n",
              "      <th>45</th>\n",
              "      <td>0.936520</td>\n",
              "      <td>0.555556</td>\n",
              "      <td>0.951028</td>\n",
              "      <td>0.566667</td>\n",
              "    </tr>\n",
              "    <tr>\n",
              "      <th>46</th>\n",
              "      <td>0.933207</td>\n",
              "      <td>0.600000</td>\n",
              "      <td>0.947834</td>\n",
              "      <td>0.600000</td>\n",
              "    </tr>\n",
              "    <tr>\n",
              "      <th>47</th>\n",
              "      <td>0.929931</td>\n",
              "      <td>0.611111</td>\n",
              "      <td>0.944672</td>\n",
              "      <td>0.600000</td>\n",
              "    </tr>\n",
              "    <tr>\n",
              "      <th>48</th>\n",
              "      <td>0.926787</td>\n",
              "      <td>0.611111</td>\n",
              "      <td>0.941632</td>\n",
              "      <td>0.600000</td>\n",
              "    </tr>\n",
              "    <tr>\n",
              "      <th>49</th>\n",
              "      <td>0.923698</td>\n",
              "      <td>0.622222</td>\n",
              "      <td>0.938611</td>\n",
              "      <td>0.583333</td>\n",
              "    </tr>\n",
              "  </tbody>\n",
              "</table>\n",
              "</div>"
            ],
            "text/plain": [
              "    train_loss  train_acc  val_loss   val_acc\n",
              "0     1.589373   0.333333  1.583721  0.333333\n",
              "1     1.557799   0.333333  1.552821  0.333333\n",
              "2     1.527085   0.333333  1.522780  0.333333\n",
              "3     1.496654   0.333333  1.493033  0.333333\n",
              "4     1.467516   0.344444  1.464566  0.333333\n",
              "5     1.438445   0.344444  1.436172  0.333333\n",
              "6     1.410202   0.355556  1.408604  0.333333\n",
              "7     1.383321   0.355556  1.382377  0.350000\n",
              "8     1.357150   0.355556  1.356852  0.366667\n",
              "9     1.331569   0.388889  1.331921  0.366667\n",
              "10    1.306372   0.388889  1.307382  0.383333\n",
              "11    1.282270   0.433333  1.283922  0.400000\n",
              "12    1.259020   0.444444  1.261301  0.416667\n",
              "13    1.236960   0.488889  1.239858  0.433333\n",
              "14    1.215906   0.522222  1.219404  0.483333\n",
              "15    1.195478   0.555556  1.199581  0.500000\n",
              "16    1.176277   0.588889  1.180970  0.550000\n",
              "17    1.157868   0.588889  1.163143  0.583333\n",
              "18    1.140859   0.600000  1.146693  0.600000\n",
              "19    1.124644   0.600000  1.131021  0.616667\n",
              "20    1.109299   0.622222  1.116206  0.616667\n",
              "21    1.095399   0.633333  1.102807  0.633333\n",
              "22    1.081769   0.644444  1.089695  0.650000\n",
              "23    1.069289   0.655556  1.077701  0.666667\n",
              "24    1.057701   0.655556  1.066582  0.666667\n",
              "25    1.047302   0.655556  1.056619  0.666667\n",
              "26    1.037216   0.655556  1.046972  0.666667\n",
              "27    1.028048   0.655556  1.038210  0.666667\n",
              "28    1.019363   0.655556  1.029935  0.666667\n",
              "29    1.011583   0.666667  1.022527  0.666667\n",
              "30    1.004682   0.666667  1.015946  0.666667\n",
              "31    0.997805   0.666667  1.009419  0.666667\n",
              "32    0.991572   0.666667  1.003504  0.666667\n",
              "33    0.985731   0.666667  0.997965  0.666667\n",
              "34    0.980357   0.666667  0.992870  0.666667\n",
              "35    0.975290   0.666667  0.988069  0.666667\n",
              "36    0.970693   0.666667  0.983697  0.650000\n",
              "37    0.966275   0.655556  0.979497  0.616667\n",
              "38    0.962048   0.655556  0.975477  0.566667\n",
              "39    0.958038   0.655556  0.971655  0.616667\n",
              "40    0.954142   0.644444  0.967944  0.566667\n",
              "41    0.950364   0.644444  0.964338  0.566667\n",
              "42    0.946768   0.600000  0.960890  0.550000\n",
              "43    0.943240   0.588889  0.957507  0.550000\n",
              "44    0.939773   0.555556  0.954185  0.566667\n",
              "45    0.936520   0.555556  0.951028  0.566667\n",
              "46    0.933207   0.600000  0.947834  0.600000\n",
              "47    0.929931   0.611111  0.944672  0.600000\n",
              "48    0.926787   0.611111  0.941632  0.600000\n",
              "49    0.923698   0.622222  0.938611  0.583333"
            ]
          },
          "execution_count": 20,
          "metadata": {},
          "output_type": "execute_result"
        }
      ],
      "source": [
        "PRINTIT=True\n",
        "def fit(\n",
        "    model: nn.Module, optimiser: optim.Optimizer,\n",
        "    loss_fn: torch.nn.CrossEntropyLoss, train_dl: DataLoader,\n",
        "    val_dl: DataLoader, epochs: int,\n",
        "    print_metrics: str = True\n",
        "):  \n",
        "    train_loss_tab = []\n",
        "    train_acc_tab = []\n",
        "    val_loss_tab = []\n",
        "    val_acc_tab = []\n",
        "    for epoch in range(epochs):\n",
        "        for X_batch, y_batch in train_dl:\n",
        "            y_pred = model(X_batch) # Uzyskanie pseudoprawdopodobieństw dla próbek z minibatcha\n",
        "            y_batch = y_batch.type(torch.long)\n",
        "            loss = loss_fn(y_pred, y_batch) # Policzenie funkcji straty\n",
        "\n",
        "            loss.backward() # Wsteczna propagacja z wyniku funkcji straty - policzenie gradientów i zapisanie ich w tensorach (parametrach)\n",
        "            optimiser.step() # Aktualizacja parametrów modelu przez optymalizator na podstawie gradientów zapisanych w tensorach (parametrach) oraz lr\n",
        "            optimiser.zero_grad() # Wyzerowanie gradientów w modelu, alternatywnie można wywołać percepron.zero_grad()\n",
        "\n",
        "        if print_metrics:\n",
        "            model.eval() # Przełączenie na tryb ewaluacji modelu - istotne dla takich warstw jak Dropuot czy BatchNorm\n",
        "            with torch.no_grad():  # Wstrzymujemy przeliczanie i śledzenie gradientów dla tensorów - w procesie ewaluacji modelu nie chcemy zmian w gradientach\n",
        "                train_loss, train_acc = validate(model, loss_fn, train_dl)\n",
        "                val_loss, val_acc = validate(model, loss_fn, val_dl)\n",
        "                if PRINTIT:\n",
        "                    print(\n",
        "                        f\"Epoch {epoch}: \"\n",
        "                        f\"train loss = {train_loss:.3f} (acc: {train_acc:.3f}), \"\n",
        "                        f\"validation loss = {val_loss:.3f} (acc: {val_acc:.3f})\"\n",
        "                    )\n",
        "                train_loss_tab.append(train_loss.item())\n",
        "                train_acc_tab.append(train_acc.item())\n",
        "                val_loss_tab.append(val_loss.item())\n",
        "                val_acc_tab.append(val_acc.item())\n",
        "    df_output = pd.DataFrame({'train_loss':train_loss_tab, 'train_acc':train_acc_tab, 'val_loss': val_loss_tab, 'val_acc':val_acc_tab})\n",
        "    model.eval() # Przełączenie na tryb ewaluacji modelu - istotne dla takich warstw jak Dropuot czy BatchNorm\n",
        "    return df_output\n",
        "train_dl, test_dl = to_dataloader(\n",
        "    X_train=X_train,\n",
        "    y_train=y_train,\n",
        "    X_test=X_test,\n",
        "    y_test=y_test,\n",
        "    batch_size=32\n",
        ")\n",
        "perceptron = Perceptron().cuda()\n",
        "optimiser = optim.Adam(perceptron.parameters(), lr=0.001)\n",
        "loss_fn = torch.nn.CrossEntropyLoss()\n",
        "fit(\n",
        "    model=perceptron, optimiser=optimiser, loss_fn=loss_fn,\n",
        "    train_dl=train_dl, val_dl=test_dl, epochs=50\n",
        ")"
      ]
    },
    {
      "cell_type": "markdown",
      "metadata": {
        "id": "hVkTsruIBaBa"
      },
      "source": [
        "***Uzupełnij*** funkcję `fit`, aby ta mogła logować metryki (*loss*, *accuracy*) per epokę. Po zebraniu historii uczenia ***przedstaw*** następujące wykresy:\n",
        "- Wykres wartości funkcji kosztu w zależności od epoki uczenia dla zbioru uczącego i testowego\n",
        "- Wykres wartości metryki *accuracy* w zależności od epoki uczenia dla zbioru uczącego i testowego\n",
        "\n",
        "Metryki dla obu zbiorów przedstaw na jednym wykresie jako serie. ***Uzupełnij*** etykiety osi i tytuły wykresów."
      ]
    },
    {
      "cell_type": "code",
      "execution_count": 21,
      "metadata": {},
      "outputs": [],
      "source": [
        "PRINTIT = False\n",
        "perceptron = Perceptron().cuda()\n",
        "optimiser = optim.Adam(perceptron.parameters(), lr=0.001)\n",
        "loss_fn = torch.nn.CrossEntropyLoss()\n",
        "df = fit(\n",
        "    model=perceptron, optimiser=optimiser, loss_fn=loss_fn,\n",
        "    train_dl=train_dl, val_dl=test_dl, epochs=500\n",
        ")"
      ]
    },
    {
      "cell_type": "code",
      "execution_count": 22,
      "metadata": {},
      "outputs": [
        {
          "data": {
            "text/plain": [
              "<matplotlib.legend.Legend at 0x1feb0885eb0>"
            ]
          },
          "execution_count": 22,
          "metadata": {},
          "output_type": "execute_result"
        },
        {
          "data": {
            "image/png": "[encoded data removed]",
            "text/plain": [
              "<Figure size 1000x800 with 1 Axes>"
            ]
          },
          "metadata": {},
          "output_type": "display_data"
        }
      ],
      "source": [
        "fig, ax  = plt.subplots(figsize = (10,8))\n",
        "for col in df.columns:\n",
        "    ax.plot(df.index, df[col], label = col)\n",
        "ax.set_xlabel('epochs', fontsize = 15)\n",
        "ax.set_ylabel('metrics', fontsize = 15)\n",
        "ax.axhline(0.9)\n",
        "ax.legend()"
      ]
    },
    {
      "cell_type": "markdown",
      "metadata": {},
      "source": [
        "***Popraw*** model, tak aby otrzymać dokładność na zbiorze testowym wynoszącą co najmniej 90%. W tym celu dobierz odpowiedni współczynnik uczenia i liczbę epok.\n",
        "Do porównania badanych hiperparametrów użyj zbioru walidacyjnego. Podziel zbiór testowy na dwie równe części, jeden który będzie służyć do walidacji hiperparametrów, a drugi, który będzie służył do ewaluacji znalezionej najlepszej pary hiperparametrów. W tym celu możesz wykorzystać funkcję `torch.utils.data.random_split` z ustawionym parametrem `generator=torch.Generator().manual_seed(1)`. Przedstaw równiez wykresy o których mowa punkcie powyżej tym razem z uwzględniem trzech zbiorów (uczącego, walidacyjnego i testowego)"
      ]
    },
    {
      "cell_type": "code",
      "execution_count": 23,
      "metadata": {},
      "outputs": [],
      "source": [
        "import math\n",
        "from torch import default_generator, randperm\n",
        "from torch._utils import _accumulate\n",
        "from torch.utils.data.dataset import Subset\n",
        "\n",
        "def random_split(dataset, lengths,\n",
        "                 generator=default_generator):\n",
        "    r\"\"\"\n",
        "    Randomly split a dataset into non-overlapping new datasets of given lengths.\n",
        "\n",
        "    If a list of fractions that sum up to 1 is given,\n",
        "    the lengths will be computed automatically as\n",
        "    floor(frac * len(dataset)) for each fraction provided.\n",
        "\n",
        "    After computing the lengths, if there are any remainders, 1 count will be\n",
        "    distributed in round-robin fashion to the lengths\n",
        "    until there are no remainders left.\n",
        "\n",
        "    Optionally fix the generator for reproducible results, e.g.:\n",
        "\n",
        "    >>> random_split(range(10), [3, 7], generator=torch.Generator().manual_seed(42))\n",
        "    >>> random_split(range(30), [0.3, 0.3, 0.4], generator=torch.Generator(\n",
        "    ...   ).manual_seed(42))\n",
        "\n",
        "    Args:\n",
        "        dataset (Dataset): Dataset to be split\n",
        "        lengths (sequence): lengths or fractions of splits to be produced\n",
        "        generator (Generator): Generator used for the random permutation.\n",
        "    \"\"\"\n",
        "    if math.isclose(sum(lengths), 1) and sum(lengths) <= 1:\n",
        "        subset_lengths: List[int] = []\n",
        "        for i, frac in enumerate(lengths):\n",
        "            if frac < 0 or frac > 1:\n",
        "                raise ValueError(f\"Fraction at index {i} is not between 0 and 1\")\n",
        "            n_items_in_split = int(\n",
        "                math.floor(len(dataset) * frac)  # type: ignore[arg-type]\n",
        "            )\n",
        "            subset_lengths.append(n_items_in_split)\n",
        "        remainder = len(dataset) - sum(subset_lengths)  # type: ignore[arg-type]\n",
        "        # add 1 to all the lengths in round-robin fashion until the remainder is 0\n",
        "        for i in range(remainder):\n",
        "            idx_to_add_at = i % len(subset_lengths)\n",
        "            subset_lengths[idx_to_add_at] += 1\n",
        "        lengths = subset_lengths\n",
        "        for i, length in enumerate(lengths):\n",
        "            if length == 0:\n",
        "                warnings.warn(f\"Length of split at index {i} is 0. \"\n",
        "                              f\"This might result in an empty dataset.\")\n",
        "\n",
        "    # Cannot verify that dataset is Sized\n",
        "    if sum(lengths) != len(dataset):    # type: ignore[arg-type]\n",
        "        raise ValueError(\"Sum of input lengths does not equal the length of the input dataset!\")\n",
        "\n",
        "    indices = randperm(sum(lengths), generator=generator).tolist()  # type: ignore[call-overload]\n",
        "    return [Subset(dataset, indices[offset - length : offset]) for offset, length in zip(_accumulate(lengths), lengths)]"
      ]
    },
    {
      "cell_type": "code",
      "execution_count": 24,
      "metadata": {},
      "outputs": [],
      "source": [
        "def to_dataloader(\n",
        "    X_train: torch.Tensor,\n",
        "    y_train: torch.Tensor,\n",
        "    X_test: torch.Tensor,\n",
        "    y_test: torch.Tensor,\n",
        "    batch_size: int = 32\n",
        ") -> Tuple[DataLoader, DataLoader]:\n",
        "    train_ds = TensorDataset(X_train, y_train)\n",
        "    train_dl = DataLoader(train_ds, batch_size=batch_size, shuffle=True)\n",
        "\n",
        "    test_ds = TensorDataset(X_test, y_test)\n",
        "    new_val_ds, new_test_ds = random_split(test_ds, [0.5, 0.5], generator=torch.Generator().manual_seed(1))\n",
        "    val_dl = DataLoader(new_val_ds, batch_size = batch_size, shuffle=True)\n",
        "    test_dl = DataLoader(new_test_ds, batch_size=batch_size, shuffle=True)\n",
        "\n",
        "    return train_dl, val_dl, test_dl"
      ]
    },
    {
      "cell_type": "code",
      "execution_count": 25,
      "metadata": {},
      "outputs": [],
      "source": [
        "def fit(\n",
        "    model: nn.Module, optimiser: optim.Optimizer,\n",
        "    loss_fn: torch.nn.CrossEntropyLoss, train_dl: DataLoader,\n",
        "    val_dl: DataLoader, test_dl:DataLoader,epochs: int,\n",
        "    print_metrics: str = True\n",
        "):  \n",
        "    train_loss_tab = []\n",
        "    train_acc_tab = []\n",
        "    val_loss_tab = []\n",
        "    val_acc_tab = []\n",
        "    test_loss_tab = []\n",
        "    test_acc_tab = []\n",
        "    for epoch in range(epochs):\n",
        "        for X_batch, y_batch in train_dl:\n",
        "            y_pred = model(X_batch) # Uzyskanie pseudoprawdopodobieństw dla próbek z minibatcha\n",
        "            y_batch = y_batch.type(torch.long)\n",
        "            loss = loss_fn(y_pred, y_batch) # Policzenie funkcji straty\n",
        "\n",
        "            loss.backward() # Wsteczna propagacja z wyniku funkcji straty - policzenie gradientów i zapisanie ich w tensorach (parametrach)\n",
        "            optimiser.step() # Aktualizacja parametrów modelu przez optymalizator na podstawie gradientów zapisanych w tensorach (parametrach) oraz lr\n",
        "            optimiser.zero_grad() # Wyzerowanie gradientów w modelu, alternatywnie można wywołać percepron.zero_grad()\n",
        "\n",
        "        if print_metrics:\n",
        "            model.eval() # Przełączenie na tryb ewaluacji modelu - istotne dla takich warstw jak Dropuot czy BatchNorm\n",
        "            with torch.no_grad():  # Wstrzymujemy przeliczanie i śledzenie gradientów dla tensorów - w procesie ewaluacji modelu nie chcemy zmian w gradientach\n",
        "                train_loss, train_acc = validate(model, loss_fn, train_dl)\n",
        "                val_loss, val_acc = validate(model, loss_fn, val_dl)\n",
        "                if PRINTIT:\n",
        "                    print(\n",
        "                        f\"Epoch {epoch}: \"\n",
        "                        f\"train loss = {train_loss:.3f} (acc: {train_acc:.3f}), \"\n",
        "                        f\"validation loss = {val_loss:.3f} (acc: {val_acc:.3f})\"\n",
        "                    )\n",
        "                train_loss_tab.append(train_loss.item())\n",
        "                train_acc_tab.append(train_acc.item())\n",
        "                val_loss_tab.append(val_loss.item())\n",
        "                val_acc_tab.append(val_acc.item())\n",
        "        test_loss, test_acc = validate(model, loss_fn, test_dl)\n",
        "        test_loss_tab.append(test_loss.item())\n",
        "        test_acc_tab.append(test_acc.item())\n",
        "    df_output = pd.DataFrame({'train_loss':train_loss_tab, 'train_acc':train_acc_tab, 'val_loss': val_loss_tab, 'val_acc':val_acc_tab, 'test_loss': test_loss_tab, 'test_acc':test_acc_tab})\n",
        "    model.eval() # Przełączenie na tryb ewaluacji modelu - istotne dla takich warstw jak Dropuot czy BatchNorm\n",
        "    return df_output\n",
        "train_dl, val_dl, test_dl = to_dataloader(\n",
        "    X_train=X_train,\n",
        "    y_train=y_train,\n",
        "    X_test=X_test,\n",
        "    y_test=y_test,\n",
        "    batch_size=32\n",
        ")\n",
        "perceptron = Perceptron().cuda()\n",
        "optimiser = optim.Adam(perceptron.parameters(), lr=0.01)\n",
        "loss_fn = torch.nn.CrossEntropyLoss()\n",
        "df = fit(\n",
        "    model=perceptron, optimiser=optimiser, loss_fn=loss_fn,\n",
        "    train_dl=train_dl, val_dl=val_dl, test_dl=test_dl, epochs=100\n",
        ")"
      ]
    },
    {
      "cell_type": "code",
      "execution_count": 36,
      "metadata": {},
      "outputs": [
        {
          "name": "stdout",
          "output_type": "stream",
          "text": [
            "tensor([2, 2, 0, 1, 2, 0, 0, 1, 1, 2, 1, 2, 1, 0, 0, 2, 2, 0, 2, 0, 0, 1, 2, 2,\n",
            "        1, 2, 0, 1, 2, 1, 2, 2], device='cuda:0', dtype=torch.int32)\n",
            "tensor([0, 1, 1, 2, 2, 1, 2, 2, 0, 0, 1, 0, 2, 2, 2, 0, 1, 1, 2, 1, 0, 0, 0, 0,\n",
            "        2, 2, 0, 1, 1, 0, 1, 1], device='cuda:0', dtype=torch.int32)\n",
            "tensor([1, 0, 2, 2, 2, 0, 0, 0, 2, 1, 0, 1, 0, 1, 1, 0, 1, 0, 0, 1, 2, 2, 1, 0,\n",
            "        1, 1], device='cuda:0', dtype=torch.int32)\n"
          ]
        }
      ],
      "source": [
        "for x,y in train_dl:\n",
        "    print(y)"
      ]
    },
    {
      "cell_type": "code",
      "execution_count": 26,
      "metadata": {},
      "outputs": [
        {
          "data": {
            "text/plain": [
              "<matplotlib.legend.Legend at 0x1fe9954d7c0>"
            ]
          },
          "execution_count": 26,
          "metadata": {},
          "output_type": "execute_result"
        },
        {
          "data": {
            "image/png": "[encoded data removed]",
            "text/plain": [
              "<Figure size 1500x1000 with 1 Axes>"
            ]
          },
          "metadata": {},
          "output_type": "display_data"
        }
      ],
      "source": [
        "fig, ax  = plt.subplots(figsize = (15,10))\n",
        "for col in df.columns:\n",
        "    ax.plot(df.index, df[col], label = col)\n",
        "ax.set_xlabel('epochs', fontsize = 15)\n",
        "ax.set_ylabel('metrics', fontsize = 15)\n",
        "ax.axhline(0.9)\n",
        "ax.legend()"
      ]
    }
  ],
  "metadata": {
    "accelerator": "GPU",
    "colab": {
      "provenance": []
    },
    "kernelspec": {
      "display_name": "Python 3",
      "name": "python3"
    },
    "language_info": {
      "codemirror_mode": {
        "name": "ipython",
        "version": 3
      },
      "file_extension": ".py",
      "mimetype": "text/x-python",
      "name": "python",
      "nbconvert_exporter": "python",
      "pygments_lexer": "ipython3",
      "version": "3.12.2"
    }
  },
  "nbformat": 4,
  "nbformat_minor": 0
}
